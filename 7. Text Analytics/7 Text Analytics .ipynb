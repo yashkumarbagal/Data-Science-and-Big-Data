{
 "cells": [
  {
   "cell_type": "markdown",
   "id": "b7ad806f-770f-4154-b268-5f0809bfb85a",
   "metadata": {},
   "source": [
    "# 7. Text Analytics\n",
    "1. Extract Sample document and apply following document preprocessing\n",
    "methods: Tokenization, POS Tagging, stop words removal, Stemming and\n",
    "Lemmatization.\n",
    "2. Create representation of document by calculating Term Frequency and Inverse\n",
    "Document Frequency."
   ]
  },
  {
   "cell_type": "code",
   "execution_count": 1,
   "id": "c8f17ddb-cfb9-422c-a3cb-540cfdda29a2",
   "metadata": {},
   "outputs": [],
   "source": [
    "import nltk\n",
    "import string\n",
    "import math"
   ]
  },
  {
   "cell_type": "code",
   "execution_count": 2,
   "id": "a5834021-0672-4895-88ed-a84cef63a0ab",
   "metadata": {},
   "outputs": [],
   "source": [
    "# Read the docs\n",
    "# Remove all non-ASCII characters\n",
    "\n",
    "with open( \"doc_01\" , \"r\" ) as file:\n",
    "    doc_1 = file.read()\n",
    "\n",
    "with open( \"doc_02\" , \"r\" ) as file:\n",
    "    doc_2 = file.read()\n",
    "\n",
    "alphabet = string.printable\n",
    "def clean_doc( doc: str ) -> str:\n",
    "    return ''.join( [ c for c in doc.lower() if c in alphabet ] )\n",
    "\n",
    "doc_1 = clean_doc( doc_1 )\n",
    "doc_2 = clean_doc( doc_2 )"
   ]
  },
  {
   "cell_type": "code",
   "execution_count": 3,
   "id": "fea0bc94-ca99-40bc-a404-1e9ca2f0db26",
   "metadata": {},
   "outputs": [
    {
     "name": "stderr",
     "output_type": "stream",
     "text": [
      "[nltk_data] Downloading package punkt to\n",
      "[nltk_data]     C:\\Users\\Sumeet\\AppData\\Roaming\\nltk_data...\n",
      "[nltk_data]   Package punkt is already up-to-date!\n",
      "[nltk_data] Downloading package stopwords to\n",
      "[nltk_data]     C:\\Users\\Sumeet\\AppData\\Roaming\\nltk_data...\n",
      "[nltk_data]   Package stopwords is already up-to-date!\n",
      "[nltk_data] Downloading package averaged_perceptron_tagger to\n",
      "[nltk_data]     C:\\Users\\Sumeet\\AppData\\Roaming\\nltk_data...\n",
      "[nltk_data]   Package averaged_perceptron_tagger is already up-to-\n",
      "[nltk_data]       date!\n",
      "[nltk_data] Downloading package wordnet to\n",
      "[nltk_data]     C:\\Users\\Sumeet\\AppData\\Roaming\\nltk_data...\n",
      "[nltk_data]   Package wordnet is already up-to-date!\n"
     ]
    },
    {
     "data": {
      "text/plain": [
       "True"
      ]
     },
     "execution_count": 3,
     "metadata": {},
     "output_type": "execute_result"
    }
   ],
   "source": [
    "nltk.download('punkt')\n",
    "nltk.download('stopwords')\n",
    "nltk.download('averaged_perceptron_tagger')\n",
    "nltk.download('wordnet')"
   ]
  },
  {
   "cell_type": "markdown",
   "id": "3a941eee-3506-48b4-acb7-8234dd12f43e",
   "metadata": {},
   "source": [
    "## 7.1. Document Preprocessing"
   ]
  },
  {
   "cell_type": "markdown",
   "id": "0213ab96-7afb-4628-bbe7-46fcf12f5d2c",
   "metadata": {},
   "source": [
    "### 7.1.1. Tokenization"
   ]
  },
  {
   "cell_type": "code",
   "execution_count": 4,
   "id": "43e481df-c27c-40b1-baa0-1a14e73cb8c5",
   "metadata": {},
   "outputs": [
    {
     "name": "stdout",
     "output_type": "stream",
     "text": [
      "['between', '2016', 'and', '2019', ',', 'the', 'state', 'forest', 'department', 'under', 'thebjpgovernment', 'had', 'launched', 'green', 'maharashtra', 'drive', 'with', 'an', 'aim', 'to', 'plant', '50', 'crore', 'trees', 'across', 'the', 'state', 'in', 'the', 'four-year', 'period', '.', 'in', 'october', '2019', ',', 'the', 'government', 'had', 'claimed', 'it', 'had', 'surpassed', 'the', 'target', 'by', 'planting', '33', 'crore', 'trees', 'in', 'july-september', '2019.the', 'indian', 'expresshad', 'found', 'that', 'non-forest', 'agencies', 'such', 'as', 'gram', 'panchayats', 'which', 'were', 'tasked', 'with', 'planting', 'trees', 'had', 'not', 'uploaded', 'the', 'mandatory', 'audio-visual', 'proof', 'of', 'the', 'tree', 'plantation', 'drives', 'on', 'the', 'specially', 'created', 'portal', '.', 'in', 'pune', 'revenue', 'division', ',', 'it', 'was', 'claimed', 'the', 'gram', 'panchayats', 'planted', '1.7', 'crore', 'saplings', ';', 'however', ',', 'no', 'evidence', 'was', 'uploaded', 'for', '87', 'per', 'cent', '(', '1.49', 'crore', ')', 'saplings', '.', 'also', ',', 'out', 'of', 'the', '59', 'government', 'agencies', 'involved', 'in', 'the', 'drive', 'as', 'many', 'as', '38', 'had', 'not', 'submitted', 'survival', 'reports', 'about', 'the', 'saplings', '.', 'this', 'year', ',', 'the', 'targets', 'set', 'by', 'the', 'forest', 'department', 'were', 'comparatively', 'modest', '.', 'for', 'example', ',', 'pune', 'circle', 'which', 'comprises', 'three', 'divisions', 'in', 'pune', 'and', 'solapur', 'district', 'had', 'planned', 'to', 'plant', '17', 'lakh', 'saplings', 'on', 'forest', 'land', '.', 'however', ',', 'it', 'may', 'not', 'meet', 'the', 'target', 'due', 'to', 'unavailability', 'of', 'funds', '.', 'last', 'year', 'pune', 'circle', 'planted', '70', 'lakh', 'saplings', 'on', 'forest', 'land', '.', 'in', 'pune', 'division', 'which', 'comprises', 'six', 'talukas', 'namely', 'maval', ',', 'mulshi', ',', 'daund', ',', 'indapur', ',', 'baramati', 'and', 'havveli', 'preparations', 'were', 'done', 'for', 'plantation', 'of', 'about', '4', 'lakh', 'trees', 'with', 'special', 'emphasis', 'on', 'teakwood', '.', 'the', 'national', 'forest', 'policy', 'aims', 'and', 'emphasizes', 'at', 'maintaining', '33', '%', 'of', 'the', 'countrys', 'geographical', 'area', 'under', 'forest', 'and', 'green', 'cover', '.', 'in', 'view', 'of', 'this', 'and', 'as', 'a', 'part', 'of', 'the', '50', 'crore', 'plantation', 'programme', 'within', 'maharashtra', ',', 'the', 'maharashtra', 'forest', 'department', 'aims', 'to', 'plant', '4', 'crore', 'saplings', 'all', 'over', 'the', 'state', 'between1st', 'to', 'july', '7th', ',', '2017to', 'celebratevanmohotsav', '.', 'the', 'plantation', 'programme', ',', 'which', 'was', 'announced', 'in', '2016', 'with', 'the', 'aim', 'of', 'planting2', 'crore', 'trees', 'on', '1stjuly', '2016', 'was', 'a', 'resounding', 'success', 'with', 'the', 'final', 'total', 'reported', 'figure', 'of2.82', 'crore', 'saplings', 'plantedon', 'a', 'single', 'day', '.', 'to', 'maintain', 'consistency', 'of', 'this', 'platform', 'without', 'affecting', 'its', 'momentum', ',', 'the', 'forest', 'department', 'has', 'set', 'the', 'target', 'of', 'plantation', 'of', '4', 'crore', ',', '13', 'crore', 'and', '33', 'crore', 'saplings', 'under', 'the', 'mission', 'of', '50', 'crore', 'plantation', 'which', 'shall', 'be', 'accomplished', 'in', 'the', 'three', 'consecutive', 'years', 'viz', '.', '2017', ',', '2018', 'and', '2019.', 'the4', 'croresaplings', 'for', 'the', 'year', '2017', 'will', 'be', 'planted', 'during', 'the', 'vanmohotsav', ',', 'july', '1st', 'to', 'july', '7thin', 'a', 'state-wide', 'drivewith', 'the', 'involvement', 'of', '33', 'government', 'departments', 'along', 'with', 'students', 'of', 'schools', 'and', 'colleges', ',', 'nss', ',', 'ncc', ',', 'csr', ',', 'ngos', ',', 'railways', ',', 'national', 'highways', ',', 'defence', ',', 'nabard', 'and', 'other', 'stakeholders', 'of', 'society', '.', 'in', 'a', 'first', 'of', 'its', 'kind', ',', 'a24-hourtoll', 'freehelpline', 'number', '1926called', 'hello', 'forest', 'has', 'been', 'set', 'up', 'to', 'provide', 'information', 'regarding', 'plantation', ',', 'protection', 'and', 'for', 'mass', 'awareness', '.', 'the', 'forest', 'department', 'has', 'created', 'amobile', 'application', 'called', 'my', 'plantsto', 'record', 'details', 'of', 'the', 'plantation', 'such', 'as', 'numbers', ',', 'species', 'and', 'location', 'into', 'the', 'computer', 'system', 'of', 'the', 'forest', 'department', '.', 'all', 'volunteers', 'at', 'individual', ',', 'collective', 'and', 'organizational', 'level', 'should', 'download', 'and', 'use', 'this', 'application', 'to', 'record', 'their', 'tree', 'plantation', 'work', 'through', 'the', 'application', ',', 'which', 'will', 'be', 'operational', 'from', '1stjuly', 'to', '7thjuly', '.', 'in', 'consonance', 'of', 'the', 'public', 'participation', ',', 'the', 'maharashtra', 'forest', 'department', 'has', 'initiated', 'the', 'maharashtra', 'harit', 'sena/', 'green', 'army', 'which', 'is', 'a', 'body', 'of', 'dedicated', 'volunteers', 'to', 'participate', 'in', 'the', 'plantation', ',', 'protection', ',', 'and', 'activities', 'in', 'forest', ',', 'wildlife', ',', 'and', 'related', 'sectors', 'around', 'the', 'year', '.', 'individuals', 'and', 'organisations', 'interested', 'in', 'volunteering', 'can', 'register', 'on', 'the', 'green', 'army', 'websitewww.greenarmy.mahaforest.gov.in', 'an', 'integrated', 'drive', 'has', 'been', 'set', 'in', 'place', 'to', 'ensure', 'seamless', 'and', 'successful', 'participation', 'from', 'all', 'stakeholders', 'of', 'society', ',', 'especially', 'the', 'public', '.']\n"
     ]
    }
   ],
   "source": [
    "\"\"\"\n",
    "word tokenization\n",
    "default tokenizer: Penn Treebank Tokenizer\n",
    "Ref: https://docs.ropensci.org/tokenizers/reference/ptb-tokenizer.html\n",
    "This tokenizer uses regular expressions to tokenize text similar to the tokenization used in the Penn Treebank. It assumes that text has already been split into sentences. \n",
    "The tokenizer does the following:\n",
    "- splits common English contractions, e.g. don't is tokenized into do n't and they'll is tokenized into -> they 'll,\n",
    "- handles punctuation characters as separate tokens,\n",
    "- splits commas and single quotes off from words, when they are followed by whitespace,\n",
    "- splits off periods that occur at the end of the sentence.\n",
    "\"\"\"\n",
    "tokens_1 = nltk.word_tokenize( doc_1 )\n",
    "tokens_2 = nltk.word_tokenize( doc_2 )\n",
    "print( tokens_1 )"
   ]
  },
  {
   "cell_type": "markdown",
   "id": "ad2184a3-ca64-4c3f-86bc-77821bc9c494",
   "metadata": {},
   "source": [
    "### 7.1.2. POS Tagging"
   ]
  },
  {
   "cell_type": "code",
   "execution_count": 5,
   "id": "f4b6a373-5313-43da-9e2a-edce3dd77cea",
   "metadata": {},
   "outputs": [
    {
     "name": "stdout",
     "output_type": "stream",
     "text": [
      "{'between': ('between', 'IN'), '2016': ('2016', 'CD'), 'and': ('and', 'CC'), '2019': ('2019', 'CD'), ',': (',', ','), 'the': ('the', 'DT'), 'state': ('state', 'NN'), 'forest': ('forest', 'NN'), 'department': ('department', 'NN'), 'under': ('under', 'IN'), 'thebjpgovernment': ('thebjpgovernment', 'NN'), 'had': ('had', 'VBD'), 'launched': ('launched', 'VBN'), 'green': ('green', 'JJ'), 'maharashtra': ('maharashtra', 'JJ'), 'drive': ('drive', 'NN'), 'with': ('with', 'IN'), 'an': ('an', 'DT'), 'aim': ('aim', 'NN'), 'to': ('to', 'TO'), 'plant': ('plant', 'NN'), '50': ('50', 'CD'), 'crore': ('crore', 'NN'), 'trees': ('trees', 'NNS'), 'across': ('across', 'IN'), 'in': ('in', 'IN'), 'four-year': ('four-year', 'JJ'), 'period': ('period', 'NN'), '.': ('.', '.'), 'october': ('october', 'JJ'), 'government': ('government', 'NN'), 'claimed': ('claimed', 'VBN'), 'it': ('it', 'PRP'), 'surpassed': ('surpassed', 'VBN'), 'target': ('target', 'NN'), 'by': ('by', 'IN'), 'planting': ('planting', 'VBG'), '33': ('33', 'CD'), 'july-september': ('july-september', 'JJ'), '2019.the': ('2019.the', 'CD'), 'indian': ('indian', 'JJ'), 'expresshad': ('expresshad', 'NN'), 'found': ('found', 'VBD'), 'that': ('that', 'IN'), 'non-forest': ('non-forest', 'JJ'), 'agencies': ('agencies', 'NNS'), 'such': ('such', 'JJ'), 'as': ('as', 'IN'), 'gram': ('gram', 'NN'), 'panchayats': ('panchayats', 'NNS'), 'which': ('which', 'WDT'), 'were': ('were', 'VBD'), 'tasked': ('tasked', 'VBN'), 'not': ('not', 'RB'), 'uploaded': ('uploaded', 'VBN'), 'mandatory': ('mandatory', 'JJ'), 'audio-visual': ('audio-visual', 'JJ'), 'proof': ('proof', 'NN'), 'of': ('of', 'IN'), 'tree': ('tree', 'JJ'), 'plantation': ('plantation', 'NN'), 'drives': ('drives', 'NNS'), 'on': ('on', 'IN'), 'specially': ('specially', 'RB'), 'created': ('created', 'VBN'), 'portal': ('portal', 'NN'), 'pune': ('pune', 'NN'), 'revenue': ('revenue', 'NN'), 'division': ('division', 'NN'), 'was': ('was', 'VBD'), 'planted': ('planted', 'VBN'), '1.7': ('1.7', 'CD'), 'saplings': ('saplings', 'NNS'), ';': (';', ':'), 'however': ('however', 'RB'), 'no': ('no', 'DT'), 'evidence': ('evidence', 'NN'), 'for': ('for', 'IN'), '87': ('87', 'CD'), 'per': ('per', 'IN'), 'cent': ('cent', 'NN'), '(': ('(', '('), '1.49': ('1.49', 'CD'), ')': (')', ')'), 'also': ('also', 'RB'), 'out': ('out', 'IN'), '59': ('59', 'CD'), 'involved': ('involved', 'VBN'), 'many': ('many', 'JJ'), '38': ('38', 'CD'), 'submitted': ('submitted', 'VBN'), 'survival': ('survival', 'JJ'), 'reports': ('reports', 'NNS'), 'about': ('about', 'IN'), 'this': ('this', 'DT'), 'year': ('year', 'NN'), 'targets': ('targets', 'NNS'), 'set': ('set', 'VBN'), 'comparatively': ('comparatively', 'RB'), 'modest': ('modest', 'JJ'), 'example': ('example', 'NN'), 'circle': ('circle', 'NN'), 'comprises': ('comprises', 'VBZ'), 'three': ('three', 'CD'), 'divisions': ('divisions', 'NNS'), 'solapur': ('solapur', 'VB'), 'district': ('district', 'NN'), 'planned': ('planned', 'VBN'), '17': ('17', 'CD'), 'lakh': ('lakh', 'NNS'), 'land': ('land', 'NN'), 'may': ('may', 'MD'), 'meet': ('meet', 'VB'), 'due': ('due', 'JJ'), 'unavailability': ('unavailability', 'NN'), 'funds': ('funds', 'NNS'), 'last': ('last', 'JJ'), '70': ('70', 'CD'), 'six': ('six', 'CD'), 'talukas': ('talukas', 'NN'), 'namely': ('namely', 'RB'), 'maval': ('maval', 'JJ'), 'mulshi': ('mulshi', 'NN'), 'daund': ('daund', 'NN'), 'indapur': ('indapur', 'NN'), 'baramati': ('baramati', 'NN'), 'havveli': ('havveli', 'JJ'), 'preparations': ('preparations', 'NNS'), 'done': ('done', 'VBN'), '4': ('4', 'CD'), 'special': ('special', 'JJ'), 'emphasis': ('emphasis', 'NN'), 'teakwood': ('teakwood', 'NN'), 'national': ('national', 'JJ'), 'policy': ('policy', 'NN'), 'aims': ('aims', 'VBZ'), 'emphasizes': ('emphasizes', 'VBZ'), 'at': ('at', 'IN'), 'maintaining': ('maintaining', 'VBG'), '%': ('%', 'NN'), 'countrys': ('countrys', 'JJ'), 'geographical': ('geographical', 'JJ'), 'area': ('area', 'NN'), 'cover': ('cover', 'NN'), 'view': ('view', 'NN'), 'a': ('a', 'DT'), 'part': ('part', 'NN'), 'programme': ('programme', 'NN'), 'within': ('within', 'IN'), 'all': ('all', 'DT'), 'over': ('over', 'IN'), 'between1st': ('between1st', 'NN'), 'july': ('july', 'VB'), '7th': ('7th', 'CD'), '2017to': ('2017to', 'CD'), 'celebratevanmohotsav': ('celebratevanmohotsav', 'NN'), 'announced': ('announced', 'VBN'), 'planting2': ('planting2', 'NN'), '1stjuly': ('1stjuly', 'CD'), 'resounding': ('resounding', 'JJ'), 'success': ('success', 'NN'), 'final': ('final', 'JJ'), 'total': ('total', 'NN'), 'reported': ('reported', 'VBD'), 'figure': ('figure', 'NN'), 'of2.82': ('of2.82', 'NN'), 'plantedon': ('plantedon', 'VBP'), 'single': ('single', 'JJ'), 'day': ('day', 'NN'), 'maintain': ('maintain', 'VB'), 'consistency': ('consistency', 'NN'), 'platform': ('platform', 'NN'), 'without': ('without', 'IN'), 'affecting': ('affecting', 'VBG'), 'its': ('its', 'PRP$'), 'momentum': ('momentum', 'NN'), 'has': ('has', 'VBZ'), '13': ('13', 'CD'), 'mission': ('mission', 'NN'), 'shall': ('shall', 'MD'), 'be': ('be', 'VB'), 'accomplished': ('accomplished', 'VBN'), 'consecutive': ('consecutive', 'JJ'), 'years': ('years', 'NNS'), 'viz': ('viz', 'RB'), '2017': ('2017', 'CD'), '2018': ('2018', 'CD'), '2019.': ('2019.', 'CD'), 'the4': ('the4', 'NN'), 'croresaplings': ('croresaplings', 'NNS'), 'will': ('will', 'MD'), 'during': ('during', 'IN'), 'vanmohotsav': ('vanmohotsav', 'NN'), '1st': ('1st', 'CD'), '7thin': ('7thin', 'CD'), 'state-wide': ('state-wide', 'JJ'), 'drivewith': ('drivewith', 'NN'), 'involvement': ('involvement', 'NN'), 'departments': ('departments', 'NNS'), 'along': ('along', 'IN'), 'students': ('students', 'NNS'), 'schools': ('schools', 'NNS'), 'colleges': ('colleges', 'NNS'), 'nss': ('nss', 'RB'), 'ncc': ('ncc', 'RB'), 'csr': ('csr', 'NN'), 'ngos': ('ngos', 'RB'), 'railways': ('railways', 'NNS'), 'highways': ('highways', 'NNS'), 'defence': ('defence', 'NN'), 'nabard': ('nabard', 'RB'), 'other': ('other', 'JJ'), 'stakeholders': ('stakeholders', 'NNS'), 'society': ('society', 'NN'), 'first': ('first', 'JJ'), 'kind': ('kind', 'NN'), 'a24-hourtoll': ('a24-hourtoll', 'JJ'), 'freehelpline': ('freehelpline', 'NN'), 'number': ('number', 'NN'), '1926called': ('1926called', 'CD'), 'hello': ('hello', 'NN'), 'been': ('been', 'VBN'), 'up': ('up', 'RP'), 'provide': ('provide', 'VB'), 'information': ('information', 'NN'), 'regarding': ('regarding', 'VBG'), 'protection': ('protection', 'NN'), 'mass': ('mass', 'NN'), 'awareness': ('awareness', 'NN'), 'amobile': ('amobile', 'IN'), 'application': ('application', 'NN'), 'called': ('called', 'VBN'), 'my': ('my', 'PRP$'), 'plantsto': ('plantsto', 'NN'), 'record': ('record', 'VB'), 'details': ('details', 'NNS'), 'numbers': ('numbers', 'NNS'), 'species': ('species', 'NNS'), 'location': ('location', 'NN'), 'into': ('into', 'IN'), 'computer': ('computer', 'NN'), 'system': ('system', 'NN'), 'volunteers': ('volunteers', 'NNS'), 'individual': ('individual', 'JJ'), 'collective': ('collective', 'JJ'), 'organizational': ('organizational', 'JJ'), 'level': ('level', 'NN'), 'should': ('should', 'MD'), 'download': ('download', 'VB'), 'use': ('use', 'VB'), 'their': ('their', 'PRP$'), 'work': ('work', 'NN'), 'through': ('through', 'IN'), 'operational': ('operational', 'JJ'), 'from': ('from', 'IN'), '7thjuly': ('7thjuly', 'CD'), 'consonance': ('consonance', 'NN'), 'public': ('public', 'NN'), 'participation': ('participation', 'NN'), 'initiated': ('initiated', 'VBN'), 'harit': ('harit', 'NN'), 'sena/': ('sena/', 'NN'), 'army': ('army', 'NN'), 'is': ('is', 'VBZ'), 'body': ('body', 'NN'), 'dedicated': ('dedicated', 'JJ'), 'participate': ('participate', 'VB'), 'activities': ('activities', 'NNS'), 'wildlife': ('wildlife', 'NN'), 'related': ('related', 'JJ'), 'sectors': ('sectors', 'NNS'), 'around': ('around', 'IN'), 'individuals': ('individuals', 'NNS'), 'organisations': ('organisations', 'NNS'), 'interested': ('interested', 'JJ'), 'volunteering': ('volunteering', 'VBG'), 'can': ('can', 'MD'), 'register': ('register', 'VB'), 'websitewww.greenarmy.mahaforest.gov.in': ('websitewww.greenarmy.mahaforest.gov.in', 'VBD'), 'integrated': ('integrated', 'VBN'), 'place': ('place', 'NN'), 'ensure': ('ensure', 'VB'), 'seamless': ('seamless', 'NN'), 'successful': ('successful', 'JJ'), 'especially': ('especially', 'RB')}\n"
     ]
    }
   ],
   "source": [
    "# default pos tagger: Perceptron Tagger\n",
    "# Ref: https://explosion.ai/blog/part-of-speech-pos-tagger-in-python/\n",
    "pos_tags = dict( zip( tokens_1 , nltk.pos_tag(tokens_1) ) )\n",
    "print( pos_tags )"
   ]
  },
  {
   "cell_type": "markdown",
   "id": "95338917-c670-46d2-bdba-a1e274e13657",
   "metadata": {},
   "source": [
    "### 7.1.3. Sentence Tokenization\n"
   ]
  },
  {
   "cell_type": "code",
   "execution_count": 6,
   "id": "73816b90-74bf-403d-a9d5-91670a725d7f",
   "metadata": {},
   "outputs": [
    {
     "name": "stdout",
     "output_type": "stream",
     "text": [
      "['between 2016 and 2019, the state forest department under thebjpgovernment had launched green maharashtra drive with an aim to plant 50 crore trees across the state in the four-year period.', 'in october 2019, the government had claimed it had surpassed the target by planting 33 crore trees in july-september 2019.the indian expresshad found that non-forest agencies  such as gram panchayats  which were tasked with planting trees had not uploaded the mandatory audio-visual proof of the tree plantation drives on the specially created portal.', 'in pune revenue division, it was claimed the gram panchayats planted 1.7 crore saplings; however, no evidence was uploaded for 87 per cent (1.49 crore) saplings.', 'also, out of the 59 government agencies involved in the drive as many as 38 had not submitted survival reports about the saplings.', 'this year, the targets set by the forest department were comparatively modest.', 'for example, pune circle  which comprises three divisions in pune and solapur district  had planned to plant 17 lakh saplings on forest land.', 'however, it may not meet the target due to unavailability of funds.', 'last year pune circle planted 70 lakh saplings on forest land.', 'in pune division  which comprises six talukas namely maval, mulshi, daund, indapur, baramati and havveli  preparations were done for plantation of about 4 lakh trees with special emphasis on teakwood.', 'the national forest policy aims and emphasizes at maintaining 33% of the countrys geographical area under forest and green cover.', 'in view of this and as a part of the 50 crore plantation programme within maharashtra, the maharashtra forest department aims to plant 4 crore saplings all over the state between1st to july 7th, 2017to celebratevanmohotsav.', 'the plantation programme, which was announced in 2016 with the aim of planting2 crore trees on 1stjuly 2016 was a resounding success with the final total reported figure of2.82 crore saplings plantedon a single day.', 'to maintain consistency of this platform without affecting its momentum, the forest department has set the target of plantation of 4 crore, 13 crore and 33 crore saplings under the mission of 50 crore plantation which shall be accomplished in the three consecutive years viz.', '2017, 2018 and 2019.\\n\\nthe4 croresaplings for the year 2017 will be planted during the vanmohotsav,july 1st to july 7thin a state-wide drivewith the involvement of 33 government departments along with students of schools and colleges, nss, ncc, csr, ngos, railways, national highways, defence, nabard and other stakeholders of society.', 'in a first of its kind, a24-hourtoll freehelpline number 1926called hello forest has been set up to provide information regarding plantation, protection and for mass awareness.', 'the forest department has created amobile application called my plantsto record details of the plantation such as numbers, species and location into the computer system of the forest department.', 'all volunteers at individual, collective and organizational level should download and use this application to record their tree plantation work through the application, which will be operational from 1stjuly to 7thjuly.', 'in consonance of the public participation, the maharashtra forest department has initiated the maharashtra harit sena/ green army which is a body of dedicated volunteers to participate in the plantation, protection, and activities in forest, wildlife, and related sectors around the year.', 'individuals and organisations interested in volunteering can register on the green army websitewww.greenarmy.mahaforest.gov.in\\n\\nan integrated drive has been set in place to ensure seamless and successful participation from all stakeholders of society, especially the public.']\n"
     ]
    }
   ],
   "source": [
    "\"\"\"\n",
    "sentence tokenization\n",
    "default tokenizer: Punkt tokenizer\n",
    "Ref: Unsupervised Multilingual Sentence Boundary Detection (Kiss and Strunk (2005)\n",
    "\"\"\"\n",
    "print( nltk.sent_tokenize( doc_1 ) )"
   ]
  },
  {
   "cell_type": "markdown",
   "id": "fb8c1fba-709a-44be-96c5-4016de426b63",
   "metadata": {},
   "source": [
    "### 7.1.4. Lemmatization"
   ]
  },
  {
   "cell_type": "code",
   "execution_count": 7,
   "id": "a71b87e4-79e5-4dc6-9e6e-c2b784dae0cc",
   "metadata": {},
   "outputs": [
    {
     "name": "stdout",
     "output_type": "stream",
     "text": [
      "['between', '2016', 'and', '2019', ',', 'the', 'state', 'forest', 'department', 'under', 'thebjpgovernment', 'had', 'launched', 'green', 'maharashtra', 'drive', 'with', 'an', 'aim', 'to', 'plant', '50', 'crore', 'tree', 'across', 'the', 'state', 'in', 'the', 'four-year', 'period', '.', 'in', 'october', '2019', ',', 'the', 'government', 'had', 'claimed', 'it', 'had', 'surpassed', 'the', 'target', 'by', 'planting', '33', 'crore', 'tree', 'in', 'july-september', '2019.the', 'indian', 'expresshad', 'found', 'that', 'non-forest', 'agency', 'such', 'a', 'gram', 'panchayat', 'which', 'were', 'tasked', 'with', 'planting', 'tree', 'had', 'not', 'uploaded', 'the', 'mandatory', 'audio-visual', 'proof', 'of', 'the', 'tree', 'plantation', 'drive', 'on', 'the', 'specially', 'created', 'portal', '.', 'in', 'pune', 'revenue', 'division', ',', 'it', 'wa', 'claimed', 'the', 'gram', 'panchayat', 'planted', '1.7', 'crore', 'sapling', ';', 'however', ',', 'no', 'evidence', 'wa', 'uploaded', 'for', '87', 'per', 'cent', '(', '1.49', 'crore', ')', 'sapling', '.', 'also', ',', 'out', 'of', 'the', '59', 'government', 'agency', 'involved', 'in', 'the', 'drive', 'a', 'many', 'a', '38', 'had', 'not', 'submitted', 'survival', 'report', 'about', 'the', 'sapling', '.', 'this', 'year', ',', 'the', 'target', 'set', 'by', 'the', 'forest', 'department', 'were', 'comparatively', 'modest', '.', 'for', 'example', ',', 'pune', 'circle', 'which', 'comprises', 'three', 'division', 'in', 'pune', 'and', 'solapur', 'district', 'had', 'planned', 'to', 'plant', '17', 'lakh', 'sapling', 'on', 'forest', 'land', '.', 'however', ',', 'it', 'may', 'not', 'meet', 'the', 'target', 'due', 'to', 'unavailability', 'of', 'fund', '.', 'last', 'year', 'pune', 'circle', 'planted', '70', 'lakh', 'sapling', 'on', 'forest', 'land', '.', 'in', 'pune', 'division', 'which', 'comprises', 'six', 'talukas', 'namely', 'maval', ',', 'mulshi', ',', 'daund', ',', 'indapur', ',', 'baramati', 'and', 'havveli', 'preparation', 'were', 'done', 'for', 'plantation', 'of', 'about', '4', 'lakh', 'tree', 'with', 'special', 'emphasis', 'on', 'teakwood', '.', 'the', 'national', 'forest', 'policy', 'aim', 'and', 'emphasizes', 'at', 'maintaining', '33', '%', 'of', 'the', 'country', 'geographical', 'area', 'under', 'forest', 'and', 'green', 'cover', '.', 'in', 'view', 'of', 'this', 'and', 'a', 'a', 'part', 'of', 'the', '50', 'crore', 'plantation', 'programme', 'within', 'maharashtra', ',', 'the', 'maharashtra', 'forest', 'department', 'aim', 'to', 'plant', '4', 'crore', 'sapling', 'all', 'over', 'the', 'state', 'between1st', 'to', 'july', '7th', ',', '2017to', 'celebratevanmohotsav', '.', 'the', 'plantation', 'programme', ',', 'which', 'wa', 'announced', 'in', '2016', 'with', 'the', 'aim', 'of', 'planting2', 'crore', 'tree', 'on', '1stjuly', '2016', 'wa', 'a', 'resounding', 'success', 'with', 'the', 'final', 'total', 'reported', 'figure', 'of2.82', 'crore', 'sapling', 'plantedon', 'a', 'single', 'day', '.', 'to', 'maintain', 'consistency', 'of', 'this', 'platform', 'without', 'affecting', 'it', 'momentum', ',', 'the', 'forest', 'department', 'ha', 'set', 'the', 'target', 'of', 'plantation', 'of', '4', 'crore', ',', '13', 'crore', 'and', '33', 'crore', 'sapling', 'under', 'the', 'mission', 'of', '50', 'crore', 'plantation', 'which', 'shall', 'be', 'accomplished', 'in', 'the', 'three', 'consecutive', 'year', 'viz', '.', '2017', ',', '2018', 'and', '2019.', 'the4', 'croresaplings', 'for', 'the', 'year', '2017', 'will', 'be', 'planted', 'during', 'the', 'vanmohotsav', ',', 'july', '1st', 'to', 'july', '7thin', 'a', 'state-wide', 'drivewith', 'the', 'involvement', 'of', '33', 'government', 'department', 'along', 'with', 'student', 'of', 'school', 'and', 'college', ',', 'n', ',', 'ncc', ',', 'csr', ',', 'ngo', ',', 'railway', ',', 'national', 'highway', ',', 'defence', ',', 'nabard', 'and', 'other', 'stakeholder', 'of', 'society', '.', 'in', 'a', 'first', 'of', 'it', 'kind', ',', 'a24-hourtoll', 'freehelpline', 'number', '1926called', 'hello', 'forest', 'ha', 'been', 'set', 'up', 'to', 'provide', 'information', 'regarding', 'plantation', ',', 'protection', 'and', 'for', 'mass', 'awareness', '.', 'the', 'forest', 'department', 'ha', 'created', 'amobile', 'application', 'called', 'my', 'plantsto', 'record', 'detail', 'of', 'the', 'plantation', 'such', 'a', 'number', ',', 'specie', 'and', 'location', 'into', 'the', 'computer', 'system', 'of', 'the', 'forest', 'department', '.', 'all', 'volunteer', 'at', 'individual', ',', 'collective', 'and', 'organizational', 'level', 'should', 'download', 'and', 'use', 'this', 'application', 'to', 'record', 'their', 'tree', 'plantation', 'work', 'through', 'the', 'application', ',', 'which', 'will', 'be', 'operational', 'from', '1stjuly', 'to', '7thjuly', '.', 'in', 'consonance', 'of', 'the', 'public', 'participation', ',', 'the', 'maharashtra', 'forest', 'department', 'ha', 'initiated', 'the', 'maharashtra', 'harit', 'sena/', 'green', 'army', 'which', 'is', 'a', 'body', 'of', 'dedicated', 'volunteer', 'to', 'participate', 'in', 'the', 'plantation', ',', 'protection', ',', 'and', 'activity', 'in', 'forest', ',', 'wildlife', ',', 'and', 'related', 'sector', 'around', 'the', 'year', '.', 'individual', 'and', 'organisation', 'interested', 'in', 'volunteering', 'can', 'register', 'on', 'the', 'green', 'army', 'websitewww.greenarmy.mahaforest.gov.in', 'an', 'integrated', 'drive', 'ha', 'been', 'set', 'in', 'place', 'to', 'ensure', 'seamless', 'and', 'successful', 'participation', 'from', 'all', 'stakeholder', 'of', 'society', ',', 'especially', 'the', 'public', '.']\n"
     ]
    }
   ],
   "source": [
    "# lemmatization\n",
    "lemmatizer = nltk.stem.WordNetLemmatizer()\n",
    "tokens_1 = [ lemmatizer.lemmatize(token) for token in tokens_1 ]\n",
    "tokens_2 = [ lemmatizer.lemmatize(token) for token in tokens_2 ]\n",
    "print( tokens_1 )"
   ]
  },
  {
   "cell_type": "markdown",
   "id": "6318b807-b60c-42a7-a815-98fd60d2914f",
   "metadata": {},
   "source": [
    "### 7.1.5. Stemming"
   ]
  },
  {
   "cell_type": "code",
   "execution_count": 8,
   "id": "42ed825a-c84b-43e5-9a43-1e64f1f912dd",
   "metadata": {},
   "outputs": [
    {
     "name": "stdout",
     "output_type": "stream",
     "text": [
      "['between', '2016', 'and', '2019', ',', 'the', 'state', 'forest', 'depart', 'under', 'thebjpgovern', 'had', 'launch', 'green', 'maharashtra', 'drive', 'with', 'an', 'aim', 'to', 'plant', '50', 'crore', 'tree', 'across', 'the', 'state', 'in', 'the', 'four-year', 'period', '.', 'in', 'octob', '2019', ',', 'the', 'govern', 'had', 'claim', 'it', 'had', 'surpass', 'the', 'target', 'by', 'plant', '33', 'crore', 'tree', 'in', 'july-septemb', '2019.the', 'indian', 'expresshad', 'found', 'that', 'non-forest', 'agenc', 'such', 'a', 'gram', 'panchayat', 'which', 'were', 'task', 'with', 'plant', 'tree', 'had', 'not', 'upload', 'the', 'mandatori', 'audio-visu', 'proof', 'of', 'the', 'tree', 'plantat', 'drive', 'on', 'the', 'special', 'creat', 'portal', '.', 'in', 'pune', 'revenu', 'divis', ',', 'it', 'wa', 'claim', 'the', 'gram', 'panchayat', 'plant', '1.7', 'crore', 'sapl', ';', 'howev', ',', 'no', 'evid', 'wa', 'upload', 'for', '87', 'per', 'cent', '(', '1.49', 'crore', ')', 'sapl', '.', 'also', ',', 'out', 'of', 'the', '59', 'govern', 'agenc', 'involv', 'in', 'the', 'drive', 'a', 'mani', 'a', '38', 'had', 'not', 'submit', 'surviv', 'report', 'about', 'the', 'sapl', '.', 'thi', 'year', ',', 'the', 'target', 'set', 'by', 'the', 'forest', 'depart', 'were', 'compar', 'modest', '.', 'for', 'exampl', ',', 'pune', 'circl', 'which', 'compris', 'three', 'divis', 'in', 'pune', 'and', 'solapur', 'district', 'had', 'plan', 'to', 'plant', '17', 'lakh', 'sapl', 'on', 'forest', 'land', '.', 'howev', ',', 'it', 'may', 'not', 'meet', 'the', 'target', 'due', 'to', 'unavail', 'of', 'fund', '.', 'last', 'year', 'pune', 'circl', 'plant', '70', 'lakh', 'sapl', 'on', 'forest', 'land', '.', 'in', 'pune', 'divis', 'which', 'compris', 'six', 'taluka', 'name', 'maval', ',', 'mulshi', ',', 'daund', ',', 'indapur', ',', 'baramati', 'and', 'havv', 'prepar', 'were', 'done', 'for', 'plantat', 'of', 'about', '4', 'lakh', 'tree', 'with', 'special', 'emphasi', 'on', 'teakwood', '.', 'the', 'nation', 'forest', 'polici', 'aim', 'and', 'emphas', 'at', 'maintain', '33', '%', 'of', 'the', 'countri', 'geograph', 'area', 'under', 'forest', 'and', 'green', 'cover', '.', 'in', 'view', 'of', 'thi', 'and', 'a', 'a', 'part', 'of', 'the', '50', 'crore', 'plantat', 'programm', 'within', 'maharashtra', ',', 'the', 'maharashtra', 'forest', 'depart', 'aim', 'to', 'plant', '4', 'crore', 'sapl', 'all', 'over', 'the', 'state', 'between1st', 'to', 'juli', '7th', ',', '2017to', 'celebratevanmohotsav', '.', 'the', 'plantat', 'programm', ',', 'which', 'wa', 'announc', 'in', '2016', 'with', 'the', 'aim', 'of', 'planting2', 'crore', 'tree', 'on', '1stjuli', '2016', 'wa', 'a', 'resound', 'success', 'with', 'the', 'final', 'total', 'report', 'figur', 'of2.82', 'crore', 'sapl', 'plantedon', 'a', 'singl', 'day', '.', 'to', 'maintain', 'consist', 'of', 'thi', 'platform', 'without', 'affect', 'it', 'momentum', ',', 'the', 'forest', 'depart', 'ha', 'set', 'the', 'target', 'of', 'plantat', 'of', '4', 'crore', ',', '13', 'crore', 'and', '33', 'crore', 'sapl', 'under', 'the', 'mission', 'of', '50', 'crore', 'plantat', 'which', 'shall', 'be', 'accomplish', 'in', 'the', 'three', 'consecut', 'year', 'viz', '.', '2017', ',', '2018', 'and', '2019.', 'the4', 'croresapl', 'for', 'the', 'year', '2017', 'will', 'be', 'plant', 'dure', 'the', 'vanmohotsav', ',', 'juli', '1st', 'to', 'juli', '7thin', 'a', 'state-wid', 'drivewith', 'the', 'involv', 'of', '33', 'govern', 'depart', 'along', 'with', 'student', 'of', 'school', 'and', 'colleg', ',', 'n', ',', 'ncc', ',', 'csr', ',', 'ngo', ',', 'railway', ',', 'nation', 'highway', ',', 'defenc', ',', 'nabard', 'and', 'other', 'stakehold', 'of', 'societi', '.', 'in', 'a', 'first', 'of', 'it', 'kind', ',', 'a24-hourtol', 'freehelplin', 'number', '1926call', 'hello', 'forest', 'ha', 'been', 'set', 'up', 'to', 'provid', 'inform', 'regard', 'plantat', ',', 'protect', 'and', 'for', 'mass', 'awar', '.', 'the', 'forest', 'depart', 'ha', 'creat', 'amobil', 'applic', 'call', 'my', 'plantsto', 'record', 'detail', 'of', 'the', 'plantat', 'such', 'a', 'number', ',', 'speci', 'and', 'locat', 'into', 'the', 'comput', 'system', 'of', 'the', 'forest', 'depart', '.', 'all', 'volunt', 'at', 'individu', ',', 'collect', 'and', 'organiz', 'level', 'should', 'download', 'and', 'use', 'thi', 'applic', 'to', 'record', 'their', 'tree', 'plantat', 'work', 'through', 'the', 'applic', ',', 'which', 'will', 'be', 'oper', 'from', '1stjuli', 'to', '7thjuli', '.', 'in', 'conson', 'of', 'the', 'public', 'particip', ',', 'the', 'maharashtra', 'forest', 'depart', 'ha', 'initi', 'the', 'maharashtra', 'harit', 'sena/', 'green', 'armi', 'which', 'is', 'a', 'bodi', 'of', 'dedic', 'volunt', 'to', 'particip', 'in', 'the', 'plantat', ',', 'protect', ',', 'and', 'activ', 'in', 'forest', ',', 'wildlif', ',', 'and', 'relat', 'sector', 'around', 'the', 'year', '.', 'individu', 'and', 'organis', 'interest', 'in', 'volunt', 'can', 'regist', 'on', 'the', 'green', 'armi', 'websitewww.greenarmy.mahaforest.gov.in', 'an', 'integr', 'drive', 'ha', 'been', 'set', 'in', 'place', 'to', 'ensur', 'seamless', 'and', 'success', 'particip', 'from', 'all', 'stakehold', 'of', 'societi', ',', 'especi', 'the', 'public', '.']\n"
     ]
    }
   ],
   "source": [
    "stemmer = nltk.stem.PorterStemmer()\n",
    "tokens_1 = [ stemmer.stem( token ) for token in tokens_1 ]\n",
    "tokens_2 = [ stemmer.stem( token ) for token in tokens_2 ]\n",
    "print( tokens_1 )"
   ]
  },
  {
   "cell_type": "markdown",
   "id": "9975fdf4-5895-4ab1-aa29-f626e2c47ad7",
   "metadata": {},
   "source": [
    "### 7.1.6. Stop Word Removal"
   ]
  },
  {
   "cell_type": "code",
   "execution_count": 9,
   "id": "3434daf3-5d11-4c0f-a381-388da3c56b80",
   "metadata": {},
   "outputs": [
    {
     "name": "stdout",
     "output_type": "stream",
     "text": [
      "['2016', '2019', ',', 'state', 'forest', 'depart', 'thebjpgovern', 'launch', 'green', 'maharashtra', 'drive', 'aim', 'plant', '50', 'crore', 'tree', 'across', 'state', 'four-year', 'period', '.', 'octob', '2019', ',', 'govern', 'claim', 'surpass', 'target', 'plant', '33', 'crore', 'tree', 'july-septemb', '2019.the', 'indian', 'expresshad', 'found', 'non-forest', 'agenc', 'gram', 'panchayat', 'task', 'plant', 'tree', 'upload', 'mandatori', 'audio-visu', 'proof', 'tree', 'plantat', 'drive', 'special', 'creat', 'portal', '.', 'pune', 'revenu', 'divis', ',', 'wa', 'claim', 'gram', 'panchayat', 'plant', '1.7', 'crore', 'sapl', ';', 'howev', ',', 'evid', 'wa', 'upload', '87', 'per', 'cent', '(', '1.49', 'crore', ')', 'sapl', '.', 'also', ',', '59', 'govern', 'agenc', 'involv', 'drive', 'mani', '38', 'submit', 'surviv', 'report', 'sapl', '.', 'thi', 'year', ',', 'target', 'set', 'forest', 'depart', 'compar', 'modest', '.', 'exampl', ',', 'pune', 'circl', 'compris', 'three', 'divis', 'pune', 'solapur', 'district', 'plan', 'plant', '17', 'lakh', 'sapl', 'forest', 'land', '.', 'howev', ',', 'may', 'meet', 'target', 'due', 'unavail', 'fund', '.', 'last', 'year', 'pune', 'circl', 'plant', '70', 'lakh', 'sapl', 'forest', 'land', '.', 'pune', 'divis', 'compris', 'six', 'taluka', 'name', 'maval', ',', 'mulshi', ',', 'daund', ',', 'indapur', ',', 'baramati', 'havv', 'prepar', 'done', 'plantat', '4', 'lakh', 'tree', 'special', 'emphasi', 'teakwood', '.', 'nation', 'forest', 'polici', 'aim', 'emphas', 'maintain', '33', '%', 'countri', 'geograph', 'area', 'forest', 'green', 'cover', '.', 'view', 'thi', 'part', '50', 'crore', 'plantat', 'programm', 'within', 'maharashtra', ',', 'maharashtra', 'forest', 'depart', 'aim', 'plant', '4', 'crore', 'sapl', 'state', 'between1st', 'juli', '7th', ',', '2017to', 'celebratevanmohotsav', '.', 'plantat', 'programm', ',', 'wa', 'announc', '2016', 'aim', 'planting2', 'crore', 'tree', '1stjuli', '2016', 'wa', 'resound', 'success', 'final', 'total', 'report', 'figur', 'of2.82', 'crore', 'sapl', 'plantedon', 'singl', 'day', '.', 'maintain', 'consist', 'thi', 'platform', 'without', 'affect', 'momentum', ',', 'forest', 'depart', 'ha', 'set', 'target', 'plantat', '4', 'crore', ',', '13', 'crore', '33', 'crore', 'sapl', 'mission', '50', 'crore', 'plantat', 'shall', 'accomplish', 'three', 'consecut', 'year', 'viz', '.', '2017', ',', '2018', '2019.', 'the4', 'croresapl', 'year', '2017', 'plant', 'dure', 'vanmohotsav', ',', 'juli', '1st', 'juli', '7thin', 'state-wid', 'drivewith', 'involv', '33', 'govern', 'depart', 'along', 'student', 'school', 'colleg', ',', 'n', ',', 'ncc', ',', 'csr', ',', 'ngo', ',', 'railway', ',', 'nation', 'highway', ',', 'defenc', ',', 'nabard', 'stakehold', 'societi', '.', 'first', 'kind', ',', 'a24-hourtol', 'freehelplin', 'number', '1926call', 'hello', 'forest', 'ha', 'set', 'provid', 'inform', 'regard', 'plantat', ',', 'protect', 'mass', 'awar', '.', 'forest', 'depart', 'ha', 'creat', 'amobil', 'applic', 'call', 'plantsto', 'record', 'detail', 'plantat', 'number', ',', 'speci', 'locat', 'comput', 'system', 'forest', 'depart', '.', 'volunt', 'individu', ',', 'collect', 'organiz', 'level', 'download', 'use', 'thi', 'applic', 'record', 'tree', 'plantat', 'work', 'applic', ',', 'oper', '1stjuli', '7thjuli', '.', 'conson', 'public', 'particip', ',', 'maharashtra', 'forest', 'depart', 'ha', 'initi', 'maharashtra', 'harit', 'sena/', 'green', 'armi', 'bodi', 'dedic', 'volunt', 'particip', 'plantat', ',', 'protect', ',', 'activ', 'forest', ',', 'wildlif', ',', 'relat', 'sector', 'around', 'year', '.', 'individu', 'organis', 'interest', 'volunt', 'regist', 'green', 'armi', 'websitewww.greenarmy.mahaforest.gov.in', 'integr', 'drive', 'ha', 'set', 'place', 'ensur', 'seamless', 'success', 'particip', 'stakehold', 'societi', ',', 'especi', 'public', '.']\n"
     ]
    }
   ],
   "source": [
    "# stop word removal\n",
    "def remove_stop_words( tokens ):\n",
    "    return [ token for token in tokens if token not in nltk.corpus.stopwords.words('english') ]\n",
    "\n",
    "tokens_1 = remove_stop_words( tokens_1 )\n",
    "tokens_2 = remove_stop_words( tokens_2 )\n",
    "print( tokens_1 )"
   ]
  },
  {
   "cell_type": "markdown",
   "id": "9b3cc9f9-9e7f-4b05-8faf-0f9276b5d4e9",
   "metadata": {},
   "source": [
    "## 7.2. TF and IDF"
   ]
  },
  {
   "cell_type": "code",
   "execution_count": 10,
   "id": "dc2aaf57-54ca-4297-9b47-0bfbcb70906b",
   "metadata": {},
   "outputs": [],
   "source": [
    "# Returns a map containing term-frequencies of each token\n",
    "# present in `doc`\n",
    "# tf( token ) = freq( token ) / num_tokens_in_doc\n",
    "def term_freq( doc_tokens ):\n",
    "    N = len( doc_tokens )\n",
    "    token_freq = dict( [ ( token , 0 ) for token in doc_tokens ] )\n",
    "    for token in doc_tokens:\n",
    "        token_freq[ token ] += 1\n",
    "    tf = dict( [ ( token , count / N ) for token , count in token_freq.items() ] )\n",
    "    return tf\n",
    "\n",
    "tf_1 = term_freq( tokens_1 )\n",
    "tf_2 = term_freq( tokens_2 )"
   ]
  },
  {
   "cell_type": "code",
   "execution_count": 11,
   "id": "0ea732d8-f179-4983-b8e6-97652a34414c",
   "metadata": {},
   "outputs": [],
   "source": [
    "# Calculate inverse-document frequency\n",
    "# IDF( token ) = log( N / (num_docs_where_token_occurs) )\n",
    "all_tokens = tokens_1 + tokens_2 # list concatenation\n",
    "def inverse_doc_freq():\n",
    "    N = 2\n",
    "    idf = {}\n",
    "    for token in all_tokens:\n",
    "        token_doc_freq = 0\n",
    "        if token in tokens_1:\n",
    "            token_doc_freq += 1\n",
    "        if token in tokens_2:\n",
    "            token_doc_freq += 1\n",
    "        idf[ token ] = math.log( N / token_doc_freq )\n",
    "    return idf\n",
    "\n",
    "idf = inverse_doc_freq()"
   ]
  },
  {
   "cell_type": "code",
   "execution_count": 12,
   "id": "9de1aa3c-896e-47cc-977b-24fef59b71d8",
   "metadata": {},
   "outputs": [],
   "source": [
    "# TFIDF( token ) = TF( token ) * IDF( token )\n",
    "doc_1_repr = []\n",
    "for token in tokens_1:\n",
    "    doc_1_repr.append( tf_1[ token ] * idf[token] )\n",
    "doc_2_repr = []\n",
    "for token in tokens_2:\n",
    "    doc_2_repr.append( tf_2[ token ] * idf[token] )"
   ]
  },
  {
   "cell_type": "code",
   "execution_count": 13,
   "id": "87a82a9d-9cff-4478-a5b0-6559d9cda726",
   "metadata": {},
   "outputs": [
    {
     "name": "stdout",
     "output_type": "stream",
     "text": [
      "[0.004824690351925373, 0.0, 0.0, 0.0, 0.0, 0.012865840938467661, 0.0016082301173084576, 0.0016082301173084576, 0.006432920469233831, 0.008041150586542289, 0.0, 0.006432920469233831, 0.0, 0.004824690351925373, 0.01929876140770149, 0.0, 0.0, 0.0, 0.0016082301173084576, 0.0016082301173084576, 0.0, 0.0016082301173084576, 0.0, 0.0, 0.0, 0.0032164602346169153, 0.0016082301173084576, 0.006432920469233831, 0.0, 0.006432920469233831, 0.01929876140770149, 0.0, 0.0016082301173084576, 0.0016082301173084576, 0.0, 0.0016082301173084576, 0.0016082301173084576, 0.0016082301173084576, 0.0032164602346169153, 0.0032164602346169153, 0.0032164602346169153, 0.0016082301173084576, 0.0, 0.0, 0.0032164602346169153, 0.0016082301173084576, 0.0016082301173084576, 0.0016082301173084576, 0.0, 0.0, 0.0, 0.0032164602346169153, 0.0032164602346169153, 0.0016082301173084576, 0.0, 0.008041150586542289, 0.0016082301173084576, 0.004824690351925373, 0.0, 0.0, 0.0032164602346169153, 0.0032164602346169153, 0.0032164602346169153, 0.0, 0.0016082301173084576, 0.01929876140770149, 0.0, 0.0016082301173084576, 0.0, 0.0, 0.0016082301173084576, 0.0, 0.0032164602346169153, 0.0016082301173084576, 0.0016082301173084576, 0.0016082301173084576, 0.0, 0.0016082301173084576, 0.01929876140770149, 0.0, 0.0, 0.0, 0.0, 0.0, 0.0016082301173084576, 0.0, 0.0032164602346169153, 0.0032164602346169153, 0.0, 0.0, 0.0016082301173084576, 0.0016082301173084576, 0.0, 0.0, 0.0, 0.0, 0.006432920469233831, 0.0, 0.0, 0.006432920469233831, 0.006432920469233831, 0.0, 0.012865840938467661, 0.0, 0.0016082301173084576, 0.0, 0.0016082301173084576, 0.0, 0.008041150586542289, 0.0032164602346169153, 0.0032164602346169153, 0.0032164602346169153, 0.004824690351925373, 0.008041150586542289, 0.0016082301173084576, 0.0016082301173084576, 0.0016082301173084576, 0.0, 0.0016082301173084576, 0.004824690351925373, 0.0, 0.0, 0.0, 0.0, 0.0, 0.0, 0.0016082301173084576, 0.0016082301173084576, 0.006432920469233831, 0.0016082301173084576, 0.0016082301173084576, 0.0016082301173084576, 0.0, 0.0, 0.0, 0.008041150586542289, 0.0032164602346169153, 0.0, 0.0016082301173084576, 0.004824690351925373, 0.0, 0.0, 0.0, 0.0, 0.008041150586542289, 0.004824690351925373, 0.0032164602346169153, 0.0016082301173084576, 0.0016082301173084576, 0.0016082301173084576, 0.0016082301173084576, 0.0, 0.0016082301173084576, 0.0, 0.0016082301173084576, 0.0, 0.0016082301173084576, 0.0, 0.0016082301173084576, 0.0016082301173084576, 0.0016082301173084576, 0.0016082301173084576, 0.0, 0.004824690351925373, 0.004824690351925373, 0.0, 0.0032164602346169153, 0.0016082301173084576, 0.0016082301173084576, 0.0, 0.0, 0.0, 0.0016082301173084576, 0.006432920469233831, 0.0016082301173084576, 0.0, 0.006432920469233831, 0.0, 0.0, 0.0016082301173084576, 0.0, 0.0, 0.006432920469233831, 0.0, 0.0, 0.0016082301173084576, 0.006432920469233831, 0.0, 0.004824690351925373, 0.01929876140770149, 0.0, 0.0032164602346169153, 0.0016082301173084576, 0.008041150586542289, 0.0, 0.008041150586542289, 0.0, 0.012865840938467661, 0.006432920469233831, 0.0, 0.004824690351925373, 0.01929876140770149, 0.0, 0.0, 0.0016082301173084576, 0.004824690351925373, 0.0016082301173084576, 0.0, 0.0016082301173084576, 0.0016082301173084576, 0.0, 0.0, 0.0032164602346169153, 0.0, 0.0, 0.0016082301173084576, 0.004824690351925373, 0.006432920469233831, 0.0016082301173084576, 0.01929876140770149, 0.0, 0.0032164602346169153, 0.004824690351925373, 0.0, 0.0016082301173084576, 0.0032164602346169153, 0.0016082301173084576, 0.0, 0.0, 0.0016082301173084576, 0.0016082301173084576, 0.01929876140770149, 0.0, 0.0016082301173084576, 0.0, 0.0, 0.0, 0.0, 0.0016082301173084576, 0.006432920469233831, 0.0016082301173084576, 0.0016082301173084576, 0.0016082301173084576, 0.0016082301173084576, 0.0, 0.0, 0.012865840938467661, 0.0, 0.006432920469233831, 0.006432920469233831, 0.0, 0.004824690351925373, 0.01929876140770149, 0.0, 0.0016082301173084576, 0.01929876140770149, 0.006432920469233831, 0.01929876140770149, 0.0, 0.0016082301173084576, 0.004824690351925373, 0.01929876140770149, 0.0, 0.0016082301173084576, 0.0016082301173084576, 0.0032164602346169153, 0.0016082301173084576, 0.0, 0.0016082301173084576, 0.0, 0.0, 0.0, 0.0016082301173084576, 0.0016082301173084576, 0.0016082301173084576, 0.0016082301173084576, 0.0, 0.0, 0.0, 0.0016082301173084576, 0.0016082301173084576, 0.0, 0.004824690351925373, 0.0016082301173084576, 0.004824690351925373, 0.0016082301173084576, 0.0016082301173084576, 0.0016082301173084576, 0.0032164602346169153, 0.006432920469233831, 0.0, 0.012865840938467661, 0.0, 0.0016082301173084576, 0.0, 0.0016082301173084576, 0.0, 0.0016082301173084576, 0.0, 0.0016082301173084576, 0.0, 0.0016082301173084576, 0.0, 0.0016082301173084576, 0.0, 0.0016082301173084576, 0.0, 0.0, 0.0, 0.0, 0.0016082301173084576, 0.0, 0.0016082301173084576, 0.0032164602346169153, 0.0032164602346169153, 0.0, 0.0016082301173084576, 0.0016082301173084576, 0.0, 0.0016082301173084576, 0.0016082301173084576, 0.0032164602346169153, 0.0016082301173084576, 0.0016082301173084576, 0.0, 0.0, 0.006432920469233831, 0.0016082301173084576, 0.0016082301173084576, 0.0016082301173084576, 0.0, 0.0, 0.0032164602346169153, 0.0016082301173084576, 0.0016082301173084576, 0.0, 0.0, 0.012865840938467661, 0.0, 0.0032164602346169153, 0.0016082301173084576, 0.004824690351925373, 0.0016082301173084576, 0.0016082301173084576, 0.0, 0.0016082301173084576, 0.0, 0.0032164602346169153, 0.0, 0.0016082301173084576, 0.0016082301173084576, 0.0016082301173084576, 0.0016082301173084576, 0.0, 0.012865840938467661, 0.0, 0.0, 0.0032164602346169153, 0.0, 0.0016082301173084576, 0.0016082301173084576, 0.0016082301173084576, 0.0016082301173084576, 0.0016082301173084576, 0.006432920469233831, 0.004824690351925373, 0.0, 0.0, 0.0, 0.0016082301173084576, 0.004824690351925373, 0.0, 0.0016082301173084576, 0.0032164602346169153, 0.0016082301173084576, 0.0, 0.0016082301173084576, 0.0032164602346169153, 0.004824690351925373, 0.0, 0.008041150586542289, 0.0, 0.012865840938467661, 0.0, 0.0016082301173084576, 0.008041150586542289, 0.0016082301173084576, 0.0016082301173084576, 0.006432920469233831, 0.0032164602346169153, 0.0016082301173084576, 0.0016082301173084576, 0.0, 0.004824690351925373, 0.0, 0.0, 0.0032164602346169153, 0.0, 0.0016082301173084576, 0.0, 0.0, 0.0016082301173084576, 0.0, 0.0016082301173084576, 0.0016082301173084576, 0.0016082301173084576, 0.0, 0.0, 0.0032164602346169153, 0.0016082301173084576, 0.0016082301173084576, 0.0, 0.0016082301173084576, 0.006432920469233831, 0.0032164602346169153, 0.0016082301173084576, 0.0016082301173084576, 0.0, 0.0, 0.006432920469233831, 0.0016082301173084576, 0.0016082301173084576, 0.0016082301173084576, 0.0032164602346169153, 0.004824690351925373, 0.0032164602346169153, 0.0032164602346169153, 0.0, 0.0016082301173084576, 0.0032164602346169153, 0.0]\n"
     ]
    }
   ],
   "source": [
    "print( doc_1_repr )"
   ]
  },
  {
   "cell_type": "code",
   "execution_count": 14,
   "id": "a2149464",
   "metadata": {},
   "outputs": [
    {
     "name": "stdout",
     "output_type": "stream",
     "text": [
      "[0.007097070108122307, 0.002365690036040769, 0.009462760144163076, 0.002365690036040769, 0.0, 0.004731380072081538, 0.0, 0.0, 0.0, 0.002365690036040769, 0.0, 0.002365690036040769, 0.007097070108122307, 0.0, 0.0, 0.0, 0.0, 0.0, 0.0, 0.004731380072081538, 0.002365690036040769, 0.0, 0.0, 0.002365690036040769, 0.0, 0.002365690036040769, 0.009462760144163076, 0.009462760144163076, 0.0, 0.0, 0.011828450180203846, 0.0, 0.002365690036040769, 0.0, 0.002365690036040769, 0.0, 0.002365690036040769, 0.002365690036040769, 0.002365690036040769, 0.002365690036040769, 0.002365690036040769, 0.002365690036040769, 0.002365690036040769, 0.0, 0.0, 0.0, 0.007097070108122307, 0.0, 0.0, 0.0, 0.0, 0.0, 0.002365690036040769, 0.0, 0.0, 0.0, 0.0, 0.002365690036040769, 0.0, 0.0, 0.011828450180203846, 0.002365690036040769, 0.011828450180203846, 0.0, 0.0, 0.009462760144163076, 0.009462760144163076, 0.002365690036040769, 0.0, 0.0, 0.0, 0.0, 0.002365690036040769, 0.002365690036040769, 0.0, 0.0, 0.011828450180203846, 0.011828450180203846, 0.0, 0.0, 0.011828450180203846, 0.002365690036040769, 0.004731380072081538, 0.0, 0.002365690036040769, 0.002365690036040769, 0.0, 0.011828450180203846, 0.0, 0.0, 0.0, 0.0, 0.0, 0.011828450180203846, 0.0, 0.0, 0.0, 0.011828450180203846, 0.0, 0.011828450180203846, 0.002365690036040769, 0.004731380072081538, 0.002365690036040769, 0.002365690036040769, 0.002365690036040769, 0.004731380072081538, 0.002365690036040769, 0.002365690036040769, 0.0, 0.0, 0.009462760144163076, 0.009462760144163076, 0.0, 0.0, 0.0, 0.011828450180203846, 0.0, 0.0, 0.002365690036040769, 0.0, 0.002365690036040769, 0.002365690036040769, 0.002365690036040769, 0.0, 0.002365690036040769, 0.004731380072081538, 0.0, 0.011828450180203846, 0.0, 0.0, 0.011828450180203846, 0.0, 0.0, 0.0, 0.0, 0.0, 0.0, 0.011828450180203846, 0.002365690036040769, 0.0, 0.0, 0.0, 0.0, 0.002365690036040769, 0.002365690036040769, 0.0, 0.0, 0.011828450180203846, 0.011828450180203846, 0.011828450180203846, 0.0, 0.002365690036040769, 0.0, 0.0, 0.002365690036040769, 0.009462760144163076, 0.0, 0.0, 0.0, 0.0, 0.0, 0.007097070108122307, 0.009462760144163076, 0.009462760144163076, 0.0, 0.0, 0.002365690036040769, 0.002365690036040769, 0.004731380072081538, 0.011828450180203846, 0.002365690036040769, 0.0, 0.0, 0.002365690036040769, 0.002365690036040769, 0.0, 0.002365690036040769, 0.002365690036040769, 0.002365690036040769, 0.002365690036040769, 0.0, 0.0, 0.0, 0.0, 0.002365690036040769, 0.002365690036040769, 0.002365690036040769, 0.002365690036040769, 0.002365690036040769, 0.0, 0.0, 0.0, 0.011828450180203846, 0.002365690036040769, 0.002365690036040769, 0.0, 0.0, 0.0, 0.0, 0.002365690036040769, 0.004731380072081538, 0.0, 0.0, 0.0, 0.011828450180203846, 0.002365690036040769, 0.0, 0.004731380072081538, 0.002365690036040769, 0.002365690036040769, 0.002365690036040769, 0.002365690036040769, 0.0, 0.011828450180203846, 0.002365690036040769, 0.002365690036040769, 0.002365690036040769, 0.004731380072081538, 0.0, 0.011828450180203846, 0.0, 0.004731380072081538, 0.002365690036040769, 0.002365690036040769, 0.011828450180203846, 0.0, 0.0, 0.002365690036040769, 0.002365690036040769, 0.0, 0.0, 0.0, 0.002365690036040769, 0.0, 0.002365690036040769, 0.002365690036040769, 0.002365690036040769, 0.002365690036040769, 0.0, 0.0, 0.0, 0.011828450180203846, 0.011828450180203846, 0.0, 0.002365690036040769, 0.009462760144163076, 0.004731380072081538, 0.0, 0.0, 0.002365690036040769, 0.007097070108122307, 0.009462760144163076, 0.0, 0.002365690036040769, 0.002365690036040769, 0.0, 0.0, 0.0, 0.0, 0.002365690036040769, 0.007097070108122307, 0.002365690036040769, 0.0, 0.0, 0.0, 0.0, 0.002365690036040769, 0.0, 0.0, 0.002365690036040769, 0.002365690036040769, 0.002365690036040769, 0.004731380072081538, 0.0, 0.002365690036040769, 0.004731380072081538, 0.0, 0.002365690036040769, 0.0, 0.0, 0.0, 0.0, 0.0, 0.002365690036040769, 0.002365690036040769, 0.002365690036040769, 0.002365690036040769, 0.002365690036040769, 0.0, 0.002365690036040769, 0.002365690036040769, 0.0, 0.0]\n"
     ]
    }
   ],
   "source": [
    "print(doc_2_repr)"
   ]
  }
 ],
 "metadata": {
  "kernelspec": {
   "display_name": "Python 3 (ipykernel)",
   "language": "python",
   "name": "python3"
  },
  "language_info": {
   "codemirror_mode": {
    "name": "ipython",
    "version": 3
   },
   "file_extension": ".py",
   "mimetype": "text/x-python",
   "name": "python",
   "nbconvert_exporter": "python",
   "pygments_lexer": "ipython3",
   "version": "3.12.0"
  },
  "vscode": {
   "interpreter": {
    "hash": "2c09c812309b459f859a45c41ca72d6adb6f6fe1c64b1e59c891ac9ccd5cd845"
   }
  }
 },
 "nbformat": 4,
 "nbformat_minor": 5
}
