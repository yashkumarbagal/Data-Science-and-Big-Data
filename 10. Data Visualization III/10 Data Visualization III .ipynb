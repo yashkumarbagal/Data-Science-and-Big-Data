{
 "cells": [
  {
   "cell_type": "markdown",
   "id": "4d01c032-29da-44f9-a410-705ef6d8bf87",
   "metadata": {},
   "source": [
    "# 10. Data Analytics 3\n",
    "\n",
    "1. Implement Simple Naïve Bayes classification algorithm using Python/R on iris.csv\n",
    "dataset.\n",
    "\n",
    "3. Compute Confusion matrix to find TP, FP, TN, FN, Accuracy, Error rate,\n",
    "Precision, Recall on the given dataset."
   ]
  },
  {
   "cell_type": "code",
   "execution_count": 1,
   "id": "9c4e6f67-8253-48a4-9547-f519f2f9c4b4",
   "metadata": {},
   "outputs": [],
   "source": [
    "import numpy as np\n",
    "import seaborn as sns\n",
    "import pandas as pd"
   ]
  },
  {
   "cell_type": "code",
   "execution_count": 2,
   "id": "6536ea20-180d-48d0-abc5-6a1a37860f58",
   "metadata": {},
   "outputs": [
    {
     "data": {
      "text/html": [
       "<div>\n",
       "<style scoped>\n",
       "    .dataframe tbody tr th:only-of-type {\n",
       "        vertical-align: middle;\n",
       "    }\n",
       "\n",
       "    .dataframe tbody tr th {\n",
       "        vertical-align: top;\n",
       "    }\n",
       "\n",
       "    .dataframe thead th {\n",
       "        text-align: right;\n",
       "    }\n",
       "</style>\n",
       "<table border=\"1\" class=\"dataframe\">\n",
       "  <thead>\n",
       "    <tr style=\"text-align: right;\">\n",
       "      <th></th>\n",
       "      <th>sepal_length</th>\n",
       "      <th>sepal_width</th>\n",
       "      <th>petal_length</th>\n",
       "      <th>petal_width</th>\n",
       "      <th>species</th>\n",
       "    </tr>\n",
       "  </thead>\n",
       "  <tbody>\n",
       "    <tr>\n",
       "      <th>0</th>\n",
       "      <td>5.1</td>\n",
       "      <td>3.5</td>\n",
       "      <td>1.4</td>\n",
       "      <td>0.2</td>\n",
       "      <td>setosa</td>\n",
       "    </tr>\n",
       "    <tr>\n",
       "      <th>1</th>\n",
       "      <td>4.9</td>\n",
       "      <td>3.0</td>\n",
       "      <td>1.4</td>\n",
       "      <td>0.2</td>\n",
       "      <td>setosa</td>\n",
       "    </tr>\n",
       "    <tr>\n",
       "      <th>2</th>\n",
       "      <td>4.7</td>\n",
       "      <td>3.2</td>\n",
       "      <td>1.3</td>\n",
       "      <td>0.2</td>\n",
       "      <td>setosa</td>\n",
       "    </tr>\n",
       "    <tr>\n",
       "      <th>3</th>\n",
       "      <td>4.6</td>\n",
       "      <td>3.1</td>\n",
       "      <td>1.5</td>\n",
       "      <td>0.2</td>\n",
       "      <td>setosa</td>\n",
       "    </tr>\n",
       "    <tr>\n",
       "      <th>4</th>\n",
       "      <td>5.0</td>\n",
       "      <td>3.6</td>\n",
       "      <td>1.4</td>\n",
       "      <td>0.2</td>\n",
       "      <td>setosa</td>\n",
       "    </tr>\n",
       "    <tr>\n",
       "      <th>...</th>\n",
       "      <td>...</td>\n",
       "      <td>...</td>\n",
       "      <td>...</td>\n",
       "      <td>...</td>\n",
       "      <td>...</td>\n",
       "    </tr>\n",
       "    <tr>\n",
       "      <th>145</th>\n",
       "      <td>6.7</td>\n",
       "      <td>3.0</td>\n",
       "      <td>5.2</td>\n",
       "      <td>2.3</td>\n",
       "      <td>virginica</td>\n",
       "    </tr>\n",
       "    <tr>\n",
       "      <th>146</th>\n",
       "      <td>6.3</td>\n",
       "      <td>2.5</td>\n",
       "      <td>5.0</td>\n",
       "      <td>1.9</td>\n",
       "      <td>virginica</td>\n",
       "    </tr>\n",
       "    <tr>\n",
       "      <th>147</th>\n",
       "      <td>6.5</td>\n",
       "      <td>3.0</td>\n",
       "      <td>5.2</td>\n",
       "      <td>2.0</td>\n",
       "      <td>virginica</td>\n",
       "    </tr>\n",
       "    <tr>\n",
       "      <th>148</th>\n",
       "      <td>6.2</td>\n",
       "      <td>3.4</td>\n",
       "      <td>5.4</td>\n",
       "      <td>2.3</td>\n",
       "      <td>virginica</td>\n",
       "    </tr>\n",
       "    <tr>\n",
       "      <th>149</th>\n",
       "      <td>5.9</td>\n",
       "      <td>3.0</td>\n",
       "      <td>5.1</td>\n",
       "      <td>1.8</td>\n",
       "      <td>virginica</td>\n",
       "    </tr>\n",
       "  </tbody>\n",
       "</table>\n",
       "<p>150 rows × 5 columns</p>\n",
       "</div>"
      ],
      "text/plain": [
       "     sepal_length  sepal_width  petal_length  petal_width    species\n",
       "0             5.1          3.5           1.4          0.2     setosa\n",
       "1             4.9          3.0           1.4          0.2     setosa\n",
       "2             4.7          3.2           1.3          0.2     setosa\n",
       "3             4.6          3.1           1.5          0.2     setosa\n",
       "4             5.0          3.6           1.4          0.2     setosa\n",
       "..            ...          ...           ...          ...        ...\n",
       "145           6.7          3.0           5.2          2.3  virginica\n",
       "146           6.3          2.5           5.0          1.9  virginica\n",
       "147           6.5          3.0           5.2          2.0  virginica\n",
       "148           6.2          3.4           5.4          2.3  virginica\n",
       "149           5.9          3.0           5.1          1.8  virginica\n",
       "\n",
       "[150 rows x 5 columns]"
      ]
     },
     "execution_count": 2,
     "metadata": {},
     "output_type": "execute_result"
    }
   ],
   "source": [
    "ds = pd.read_csv( \"iris.csv\" )\n",
    "ds"
   ]
  },
  {
   "cell_type": "code",
   "execution_count": 3,
   "id": "4f6ba59d-1d11-403d-a78f-03d21abdbe0b",
   "metadata": {},
   "outputs": [
    {
     "name": "stdout",
     "output_type": "stream",
     "text": [
      "Index(['sepal_length', 'sepal_width', 'petal_length', 'petal_width'], dtype='object')\n",
      "species\n",
      "['setosa' 'versicolor' 'virginica']\n"
     ]
    }
   ],
   "source": [
    "features = ds.drop( [ \"species\" ] , axis=1 ).columns\n",
    "label = \"species\"\n",
    "classes = np.unique( ds[label] )\n",
    "print( features )\n",
    "print( label )\n",
    "print( classes )"
   ]
  },
  {
   "cell_type": "code",
   "execution_count": 4,
   "id": "aa06b01d-3ecb-481a-a82b-87cefc2caa15",
   "metadata": {},
   "outputs": [
    {
     "data": {
      "text/html": [
       "<div>\n",
       "<style scoped>\n",
       "    .dataframe tbody tr th:only-of-type {\n",
       "        vertical-align: middle;\n",
       "    }\n",
       "\n",
       "    .dataframe tbody tr th {\n",
       "        vertical-align: top;\n",
       "    }\n",
       "\n",
       "    .dataframe thead th {\n",
       "        text-align: right;\n",
       "    }\n",
       "</style>\n",
       "<table border=\"1\" class=\"dataframe\">\n",
       "  <thead>\n",
       "    <tr style=\"text-align: right;\">\n",
       "      <th></th>\n",
       "      <th>sepal_length</th>\n",
       "      <th>sepal_width</th>\n",
       "      <th>petal_length</th>\n",
       "      <th>petal_width</th>\n",
       "      <th>species</th>\n",
       "    </tr>\n",
       "  </thead>\n",
       "  <tbody>\n",
       "    <tr>\n",
       "      <th>0</th>\n",
       "      <td>0.222222</td>\n",
       "      <td>0.625000</td>\n",
       "      <td>0.067797</td>\n",
       "      <td>0.041667</td>\n",
       "      <td>setosa</td>\n",
       "    </tr>\n",
       "    <tr>\n",
       "      <th>1</th>\n",
       "      <td>0.166667</td>\n",
       "      <td>0.416667</td>\n",
       "      <td>0.067797</td>\n",
       "      <td>0.041667</td>\n",
       "      <td>setosa</td>\n",
       "    </tr>\n",
       "    <tr>\n",
       "      <th>2</th>\n",
       "      <td>0.111111</td>\n",
       "      <td>0.500000</td>\n",
       "      <td>0.050847</td>\n",
       "      <td>0.041667</td>\n",
       "      <td>setosa</td>\n",
       "    </tr>\n",
       "    <tr>\n",
       "      <th>3</th>\n",
       "      <td>0.083333</td>\n",
       "      <td>0.458333</td>\n",
       "      <td>0.084746</td>\n",
       "      <td>0.041667</td>\n",
       "      <td>setosa</td>\n",
       "    </tr>\n",
       "    <tr>\n",
       "      <th>4</th>\n",
       "      <td>0.194444</td>\n",
       "      <td>0.666667</td>\n",
       "      <td>0.067797</td>\n",
       "      <td>0.041667</td>\n",
       "      <td>setosa</td>\n",
       "    </tr>\n",
       "    <tr>\n",
       "      <th>...</th>\n",
       "      <td>...</td>\n",
       "      <td>...</td>\n",
       "      <td>...</td>\n",
       "      <td>...</td>\n",
       "      <td>...</td>\n",
       "    </tr>\n",
       "    <tr>\n",
       "      <th>145</th>\n",
       "      <td>0.666667</td>\n",
       "      <td>0.416667</td>\n",
       "      <td>0.711864</td>\n",
       "      <td>0.916667</td>\n",
       "      <td>virginica</td>\n",
       "    </tr>\n",
       "    <tr>\n",
       "      <th>146</th>\n",
       "      <td>0.555556</td>\n",
       "      <td>0.208333</td>\n",
       "      <td>0.677966</td>\n",
       "      <td>0.750000</td>\n",
       "      <td>virginica</td>\n",
       "    </tr>\n",
       "    <tr>\n",
       "      <th>147</th>\n",
       "      <td>0.611111</td>\n",
       "      <td>0.416667</td>\n",
       "      <td>0.711864</td>\n",
       "      <td>0.791667</td>\n",
       "      <td>virginica</td>\n",
       "    </tr>\n",
       "    <tr>\n",
       "      <th>148</th>\n",
       "      <td>0.527778</td>\n",
       "      <td>0.583333</td>\n",
       "      <td>0.745763</td>\n",
       "      <td>0.916667</td>\n",
       "      <td>virginica</td>\n",
       "    </tr>\n",
       "    <tr>\n",
       "      <th>149</th>\n",
       "      <td>0.444444</td>\n",
       "      <td>0.416667</td>\n",
       "      <td>0.694915</td>\n",
       "      <td>0.708333</td>\n",
       "      <td>virginica</td>\n",
       "    </tr>\n",
       "  </tbody>\n",
       "</table>\n",
       "<p>150 rows × 5 columns</p>\n",
       "</div>"
      ],
      "text/plain": [
       "     sepal_length  sepal_width  petal_length  petal_width    species\n",
       "0        0.222222     0.625000      0.067797     0.041667     setosa\n",
       "1        0.166667     0.416667      0.067797     0.041667     setosa\n",
       "2        0.111111     0.500000      0.050847     0.041667     setosa\n",
       "3        0.083333     0.458333      0.084746     0.041667     setosa\n",
       "4        0.194444     0.666667      0.067797     0.041667     setosa\n",
       "..            ...          ...           ...          ...        ...\n",
       "145      0.666667     0.416667      0.711864     0.916667  virginica\n",
       "146      0.555556     0.208333      0.677966     0.750000  virginica\n",
       "147      0.611111     0.416667      0.711864     0.791667  virginica\n",
       "148      0.527778     0.583333      0.745763     0.916667  virginica\n",
       "149      0.444444     0.416667      0.694915     0.708333  virginica\n",
       "\n",
       "[150 rows x 5 columns]"
      ]
     },
     "execution_count": 4,
     "metadata": {},
     "output_type": "execute_result"
    }
   ],
   "source": [
    "def normalize( feature ):\n",
    "    ds[ feature ] = ( ds[ feature ] - ds[ feature ].min() ) / ( ds[feature].max() - ds[feature].min() )\n",
    "\n",
    "for feature in features:\n",
    "    normalize( feature )\n",
    "ds"
   ]
  },
  {
   "cell_type": "code",
   "execution_count": 5,
   "id": "14707c11-3d84-49e7-8eda-c604694b2c4b",
   "metadata": {},
   "outputs": [],
   "source": [
    "import math\n",
    "\n",
    "def gaussian_pdf( mean: float , std: float ):\n",
    "    def pdf( x ):\n",
    "        return (1.0 / (std * math.sqrt( 2 * math.pi ))) * math.exp( -0.5 * ((x - mean)/std)**2 )\n",
    "    return pdf\n",
    "\n",
    "def compute_prior( class_: str ) -> float:\n",
    "    return len( train_ds[ train_ds[\"species\"] == class_ ] ) / len( train_ds )\n",
    "\n",
    "def compute_log_likelihood( sample , class_: str ) -> float:\n",
    "    prior_prob = compute_prior( class_ )\n",
    "    posterior_prob = 0.0\n",
    "    for i , feature in enumerate(features):\n",
    "        pdf = gaussian_pdf( \n",
    "            train_ds[ train_ds[label] == class_ ][feature].mean() , \n",
    "            train_ds[ train_ds[label] == class_ ][feature].std() \n",
    "        )\n",
    "        posterior_prob += math.log( pdf( sample[i] ) )\n",
    "    return posterior_prob + math.log( prior_prob )\n",
    "\n",
    "def classifier( sample ):\n",
    "    max_likelihood = -math.inf\n",
    "    max_likelihood_class = None\n",
    "    for class_ in classes:\n",
    "        class_likelihood = compute_log_likelihood( sample , class_ )\n",
    "        if class_likelihood > max_likelihood:\n",
    "            max_likelihood = class_likelihood\n",
    "            max_likelihood_class = class_\n",
    "    return max_likelihood_class"
   ]
  },
  {
   "cell_type": "code",
   "execution_count": 6,
   "id": "2e49df48-ecf1-408c-95ff-e1b56014b1bc",
   "metadata": {},
   "outputs": [],
   "source": [
    "def train_test_split( test_split = 0.3 ):\n",
    "    global ds\n",
    "    ds = ds.sample(frac=1)\n",
    "    num_test_samples = int(len( ds ) * test_split)\n",
    "    test_ds = ds.head( num_test_samples )\n",
    "    train_ds = ds.tail( len(ds) - num_test_samples )\n",
    "    return train_ds , test_ds\n",
    "\n",
    "train_ds , test_ds = train_test_split()\n",
    "target_labels = list( test_ds[label] )\n",
    "pred_labels = []\n",
    "for test_sample in test_ds.to_numpy():\n",
    "    pred_y = classifier( test_sample[ : -1 ] )\n",
    "    pred_labels.append( pred_y )"
   ]
  },
  {
   "cell_type": "code",
   "execution_count": 7,
   "id": "f800ad09-7067-4af9-b3d3-02df105a4d17",
   "metadata": {},
   "outputs": [
    {
     "name": "stdout",
     "output_type": "stream",
     "text": [
      "['versicolor', 'versicolor', 'versicolor', 'setosa', 'virginica', 'setosa', 'setosa', 'setosa', 'setosa', 'versicolor', 'versicolor', 'setosa', 'setosa', 'virginica', 'versicolor', 'virginica', 'virginica', 'virginica', 'setosa', 'virginica', 'versicolor', 'versicolor', 'setosa', 'virginica', 'setosa', 'setosa', 'versicolor', 'versicolor', 'setosa', 'setosa', 'setosa', 'versicolor', 'setosa', 'versicolor', 'setosa', 'setosa', 'setosa', 'virginica', 'virginica', 'versicolor', 'setosa', 'setosa', 'versicolor', 'setosa', 'setosa']\n"
     ]
    }
   ],
   "source": [
    "print( pred_labels )"
   ]
  },
  {
   "cell_type": "code",
   "execution_count": 8,
   "id": "b5ffe93e-9a23-42dc-a3d0-cd3be6e555e4",
   "metadata": {},
   "outputs": [
    {
     "name": "stdout",
     "output_type": "stream",
     "text": [
      "['versicolor', 'versicolor', 'versicolor', 'setosa', 'virginica', 'setosa', 'setosa', 'setosa', 'setosa', 'versicolor', 'versicolor', 'setosa', 'setosa', 'virginica', 'versicolor', 'virginica', 'virginica', 'virginica', 'setosa', 'virginica', 'versicolor', 'versicolor', 'setosa', 'virginica', 'setosa', 'setosa', 'versicolor', 'versicolor', 'setosa', 'setosa', 'setosa', 'versicolor', 'setosa', 'versicolor', 'setosa', 'setosa', 'setosa', 'virginica', 'virginica', 'versicolor', 'setosa', 'setosa', 'virginica', 'setosa', 'setosa']\n"
     ]
    }
   ],
   "source": [
    "print( target_labels )"
   ]
  },
  {
   "cell_type": "code",
   "execution_count": 9,
   "id": "9ae025f5-deea-4c1a-a7b0-cf39a28aca56",
   "metadata": {},
   "outputs": [
    {
     "name": "stdout",
     "output_type": "stream",
     "text": [
      "Accuracy is 0.9777777777777777\n"
     ]
    }
   ],
   "source": [
    "# Accuracy\n",
    "acc = sum( [ 1.0 for i in range( len( pred_labels ) ) if pred_labels[i] == target_labels[i] ] ) / len( pred_labels )\n",
    "print( f\"Accuracy is {acc}\" ) "
   ]
  },
  {
   "cell_type": "code",
   "execution_count": 10,
   "id": "1ca9a6fe",
   "metadata": {},
   "outputs": [
    {
     "name": "stdout",
     "output_type": "stream",
     "text": [
      "              precision    recall  f1-score   support\n",
      "\n",
      "      setosa       1.00      1.00      1.00        22\n",
      "  versicolor       1.00      0.93      0.96        14\n",
      "   virginica       0.90      1.00      0.95         9\n",
      "\n",
      "    accuracy                           0.98        45\n",
      "   macro avg       0.97      0.98      0.97        45\n",
      "weighted avg       0.98      0.98      0.98        45\n",
      "\n"
     ]
    }
   ],
   "source": [
    "from sklearn.metrics import classification_report\n",
    "report = classification_report(pred_labels, target_labels)\n",
    "print(report)"
   ]
  }
 ],
 "metadata": {
  "kernelspec": {
   "display_name": "Python 3 (ipykernel)",
   "language": "python",
   "name": "python3"
  },
  "language_info": {
   "codemirror_mode": {
    "name": "ipython",
    "version": 3
   },
   "file_extension": ".py",
   "mimetype": "text/x-python",
   "name": "python",
   "nbconvert_exporter": "python",
   "pygments_lexer": "ipython3",
   "version": "3.12.0"
  }
 },
 "nbformat": 4,
 "nbformat_minor": 5
}
