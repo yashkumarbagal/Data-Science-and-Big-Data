{
 "cells": [
  {
   "cell_type": "markdown",
   "id": "86ea1105-329f-4447-b978-c25edcf32504",
   "metadata": {},
   "source": [
    "# Data Analytics 2\n",
    "\n",
    "1. Implement logistic regression using Python/R to perform classification on\n",
    "Social_Network_Ads.csv dataset.\n",
    "2. Compute Confusion matrix to find TP, FP, TN, FN, Accuracy, Error rate,\n",
    "Precision, Recall on the given dataset"
   ]
  },
  {
   "cell_type": "code",
   "execution_count": 1,
   "id": "3644c007-a26d-4548-a9ba-68906ef6141e",
   "metadata": {},
   "outputs": [],
   "source": [
    "import pandas as pd\n",
    "import numpy as np\n",
    "import seaborn as sns"
   ]
  },
  {
   "cell_type": "code",
   "execution_count": 2,
   "id": "3ff2792c-ec26-4244-b396-c5e2f3f2d7ad",
   "metadata": {},
   "outputs": [
    {
     "data": {
      "text/html": [
       "<div>\n",
       "<style scoped>\n",
       "    .dataframe tbody tr th:only-of-type {\n",
       "        vertical-align: middle;\n",
       "    }\n",
       "\n",
       "    .dataframe tbody tr th {\n",
       "        vertical-align: top;\n",
       "    }\n",
       "\n",
       "    .dataframe thead th {\n",
       "        text-align: right;\n",
       "    }\n",
       "</style>\n",
       "<table border=\"1\" class=\"dataframe\">\n",
       "  <thead>\n",
       "    <tr style=\"text-align: right;\">\n",
       "      <th></th>\n",
       "      <th>User ID</th>\n",
       "      <th>Gender</th>\n",
       "      <th>Age</th>\n",
       "      <th>EstimatedSalary</th>\n",
       "      <th>Purchased</th>\n",
       "    </tr>\n",
       "  </thead>\n",
       "  <tbody>\n",
       "    <tr>\n",
       "      <th>0</th>\n",
       "      <td>15624510</td>\n",
       "      <td>Male</td>\n",
       "      <td>19</td>\n",
       "      <td>19000</td>\n",
       "      <td>0</td>\n",
       "    </tr>\n",
       "    <tr>\n",
       "      <th>1</th>\n",
       "      <td>15810944</td>\n",
       "      <td>Male</td>\n",
       "      <td>35</td>\n",
       "      <td>20000</td>\n",
       "      <td>0</td>\n",
       "    </tr>\n",
       "    <tr>\n",
       "      <th>2</th>\n",
       "      <td>15668575</td>\n",
       "      <td>Female</td>\n",
       "      <td>26</td>\n",
       "      <td>43000</td>\n",
       "      <td>0</td>\n",
       "    </tr>\n",
       "    <tr>\n",
       "      <th>3</th>\n",
       "      <td>15603246</td>\n",
       "      <td>Female</td>\n",
       "      <td>27</td>\n",
       "      <td>57000</td>\n",
       "      <td>0</td>\n",
       "    </tr>\n",
       "    <tr>\n",
       "      <th>4</th>\n",
       "      <td>15804002</td>\n",
       "      <td>Male</td>\n",
       "      <td>19</td>\n",
       "      <td>76000</td>\n",
       "      <td>0</td>\n",
       "    </tr>\n",
       "    <tr>\n",
       "      <th>...</th>\n",
       "      <td>...</td>\n",
       "      <td>...</td>\n",
       "      <td>...</td>\n",
       "      <td>...</td>\n",
       "      <td>...</td>\n",
       "    </tr>\n",
       "    <tr>\n",
       "      <th>395</th>\n",
       "      <td>15691863</td>\n",
       "      <td>Female</td>\n",
       "      <td>46</td>\n",
       "      <td>41000</td>\n",
       "      <td>1</td>\n",
       "    </tr>\n",
       "    <tr>\n",
       "      <th>396</th>\n",
       "      <td>15706071</td>\n",
       "      <td>Male</td>\n",
       "      <td>51</td>\n",
       "      <td>23000</td>\n",
       "      <td>1</td>\n",
       "    </tr>\n",
       "    <tr>\n",
       "      <th>397</th>\n",
       "      <td>15654296</td>\n",
       "      <td>Female</td>\n",
       "      <td>50</td>\n",
       "      <td>20000</td>\n",
       "      <td>1</td>\n",
       "    </tr>\n",
       "    <tr>\n",
       "      <th>398</th>\n",
       "      <td>15755018</td>\n",
       "      <td>Male</td>\n",
       "      <td>36</td>\n",
       "      <td>33000</td>\n",
       "      <td>0</td>\n",
       "    </tr>\n",
       "    <tr>\n",
       "      <th>399</th>\n",
       "      <td>15594041</td>\n",
       "      <td>Female</td>\n",
       "      <td>49</td>\n",
       "      <td>36000</td>\n",
       "      <td>1</td>\n",
       "    </tr>\n",
       "  </tbody>\n",
       "</table>\n",
       "<p>400 rows × 5 columns</p>\n",
       "</div>"
      ],
      "text/plain": [
       "      User ID  Gender  Age  EstimatedSalary  Purchased\n",
       "0    15624510    Male   19            19000          0\n",
       "1    15810944    Male   35            20000          0\n",
       "2    15668575  Female   26            43000          0\n",
       "3    15603246  Female   27            57000          0\n",
       "4    15804002    Male   19            76000          0\n",
       "..        ...     ...  ...              ...        ...\n",
       "395  15691863  Female   46            41000          1\n",
       "396  15706071    Male   51            23000          1\n",
       "397  15654296  Female   50            20000          1\n",
       "398  15755018    Male   36            33000          0\n",
       "399  15594041  Female   49            36000          1\n",
       "\n",
       "[400 rows x 5 columns]"
      ]
     },
     "execution_count": 2,
     "metadata": {},
     "output_type": "execute_result"
    }
   ],
   "source": [
    "ds = pd.read_csv( \"Social_Network_Ads.csv\" )\n",
    "ds"
   ]
  },
  {
   "cell_type": "markdown",
   "id": "ed704312-9d8c-4ae5-9eb2-6678df6fffbd",
   "metadata": {},
   "source": [
    "## 1. Data Preprocessing"
   ]
  },
  {
   "cell_type": "markdown",
   "id": "7ad8b622-3e59-4e16-9c23-579b2c97e6d8",
   "metadata": {},
   "source": [
    "### 1.1. About the dataset"
   ]
  },
  {
   "cell_type": "code",
   "execution_count": 3,
   "id": "cdb97165-4f0d-44d3-aed8-74316925b96d",
   "metadata": {},
   "outputs": [
    {
     "data": {
      "text/plain": [
       "Index(['User ID', 'Gender', 'Age', 'EstimatedSalary', 'Purchased'], dtype='object')"
      ]
     },
     "execution_count": 3,
     "metadata": {},
     "output_type": "execute_result"
    }
   ],
   "source": [
    "ds.columns"
   ]
  },
  {
   "cell_type": "code",
   "execution_count": 4,
   "id": "d9aa9cd9-9074-4251-b049-053294e5d0ba",
   "metadata": {},
   "outputs": [
    {
     "data": {
      "text/plain": [
       "User ID             int64\n",
       "Gender             object\n",
       "Age                 int64\n",
       "EstimatedSalary     int64\n",
       "Purchased           int64\n",
       "dtype: object"
      ]
     },
     "execution_count": 4,
     "metadata": {},
     "output_type": "execute_result"
    }
   ],
   "source": [
    "ds.dtypes"
   ]
  },
  {
   "cell_type": "code",
   "execution_count": 5,
   "id": "60e503db-711b-4e13-9484-643e547fbe8e",
   "metadata": {},
   "outputs": [
    {
     "name": "stdout",
     "output_type": "stream",
     "text": [
      "count    400.000000\n",
      "mean      37.655000\n",
      "std       10.482877\n",
      "min       18.000000\n",
      "25%       29.750000\n",
      "50%       37.000000\n",
      "75%       46.000000\n",
      "max       60.000000\n",
      "Name: Age, dtype: float64\n"
     ]
    },
    {
     "data": {
      "text/plain": [
       "<Axes: xlabel='Age'>"
      ]
     },
     "execution_count": 5,
     "metadata": {},
     "output_type": "execute_result"
    },
    {
     "data": {
      "image/png": "[encoded data removed]",
      "text/plain": [
       "<Figure size 640x480 with 1 Axes>"
      ]
     },
     "metadata": {},
     "output_type": "display_data"
    }
   ],
   "source": [
    "print( ds[ \"Age\" ].describe() )\n",
    "sns.boxplot( data=ds , x=\"Age\" )"
   ]
  },
  {
   "cell_type": "code",
   "execution_count": 6,
   "id": "19a41594-1697-4796-8ddb-ec0b92ce0d51",
   "metadata": {},
   "outputs": [
    {
     "name": "stdout",
     "output_type": "stream",
     "text": [
      "count       400.000000\n",
      "mean      69742.500000\n",
      "std       34096.960282\n",
      "min       15000.000000\n",
      "25%       43000.000000\n",
      "50%       70000.000000\n",
      "75%       88000.000000\n",
      "max      150000.000000\n",
      "Name: EstimatedSalary, dtype: float64\n"
     ]
    },
    {
     "data": {
      "text/plain": [
       "<Axes: xlabel='EstimatedSalary'>"
      ]
     },
     "execution_count": 6,
     "metadata": {},
     "output_type": "execute_result"
    },
    {
     "data": {
      "image/png": "[encoded data removed]",
      "text/plain": [
       "<Figure size 640x480 with 1 Axes>"
      ]
     },
     "metadata": {},
     "output_type": "display_data"
    }
   ],
   "source": [
    "print( ds[ \"EstimatedSalary\" ].describe() )\n",
    "sns.boxplot( data=ds , x=\"EstimatedSalary\" )"
   ]
  },
  {
   "cell_type": "code",
   "execution_count": 7,
   "id": "ca9a79b4-7d81-469e-b02b-d2fb29ee70e2",
   "metadata": {},
   "outputs": [
    {
     "name": "stdout",
     "output_type": "stream",
     "text": [
      "Gender\n",
      "Female    204\n",
      "Male      196\n",
      "Name: count, dtype: int64\n"
     ]
    },
    {
     "data": {
      "text/plain": [
       "<Axes: xlabel='Gender', ylabel='count'>"
      ]
     },
     "execution_count": 7,
     "metadata": {},
     "output_type": "execute_result"
    },
    {
     "data": {
      "image/png": "[encoded data removed]",
      "text/plain": [
       "<Figure size 640x480 with 1 Axes>"
      ]
     },
     "metadata": {},
     "output_type": "display_data"
    }
   ],
   "source": [
    "print( ds[ \"Gender\" ].value_counts() )\n",
    "sns.countplot( data=ds , x=\"Gender\" )"
   ]
  },
  {
   "cell_type": "code",
   "execution_count": 8,
   "id": "5108364f-a08d-445a-97ad-a7f7c920f988",
   "metadata": {},
   "outputs": [
    {
     "name": "stdout",
     "output_type": "stream",
     "text": [
      "Purchased\n",
      "0    257\n",
      "1    143\n",
      "Name: count, dtype: int64\n"
     ]
    },
    {
     "data": {
      "text/plain": [
       "<Axes: xlabel='Purchased', ylabel='count'>"
      ]
     },
     "execution_count": 8,
     "metadata": {},
     "output_type": "execute_result"
    },
    {
     "data": {
      "image/png": "[encoded data removed]",
      "text/plain": [
       "<Figure size 640x480 with 1 Axes>"
      ]
     },
     "metadata": {},
     "output_type": "display_data"
    }
   ],
   "source": [
    "print( ds[ \"Purchased\" ].value_counts() )\n",
    "sns.countplot( data=ds , x=\"Purchased\" )"
   ]
  },
  {
   "cell_type": "markdown",
   "id": "63ee25be-86c6-4f40-9104-ebc07595b79a",
   "metadata": {},
   "source": [
    "### 1.2. Missing Values"
   ]
  },
  {
   "cell_type": "code",
   "execution_count": 9,
   "id": "afe940fe-3955-45a2-8996-855a1b14b565",
   "metadata": {},
   "outputs": [
    {
     "data": {
      "text/plain": [
       "User ID            0\n",
       "Gender             0\n",
       "Age                0\n",
       "EstimatedSalary    0\n",
       "Purchased          0\n",
       "dtype: int64"
      ]
     },
     "execution_count": 9,
     "metadata": {},
     "output_type": "execute_result"
    }
   ],
   "source": [
    "ds.isna().sum()"
   ]
  },
  {
   "cell_type": "markdown",
   "id": "1085f452-9916-474e-81fd-243d656f5883",
   "metadata": {},
   "source": [
    "### 1.3. Feature Encoding"
   ]
  },
  {
   "cell_type": "code",
   "execution_count": 10,
   "id": "b4fe4909-9aae-4212-a791-f7b130e6a44a",
   "metadata": {},
   "outputs": [],
   "source": [
    "ds.loc[ ds[ \"Gender\" ] == \"Male\" , \"Gender\" ] = 0\n",
    "ds.loc[ ds[ \"Gender\" ] == \"Female\" , \"Gender\" ] = 1\n",
    "ds = ds.astype( { \"Gender\" : \"int\" } )"
   ]
  },
  {
   "cell_type": "markdown",
   "id": "361c3b0a-2b36-4113-942a-65ffc3787438",
   "metadata": {},
   "source": [
    "### 1.3. Feature Elimination"
   ]
  },
  {
   "cell_type": "code",
   "execution_count": 11,
   "id": "04ce6b66-3a72-4c9c-b254-5d69508e34fc",
   "metadata": {},
   "outputs": [],
   "source": [
    "# Remove user-id as it is the unique key\n",
    "ds.drop( [ \"User ID\" ] , axis=1 , inplace=True )"
   ]
  },
  {
   "cell_type": "markdown",
   "id": "5c4204f1-5dc5-448b-b20f-88aa587a337e",
   "metadata": {},
   "source": [
    "### 1.4. Normalization\n"
   ]
  },
  {
   "cell_type": "code",
   "execution_count": 12,
   "id": "96aa718b-4f88-4655-83a6-54d9b3e5620e",
   "metadata": {},
   "outputs": [],
   "source": [
    "def min_max( feature ):\n",
    "    ds[ feature ] = ( ds[feature] - ds[feature].min() ) / ( ds[feature].max() - ds[feature].min() ) \n",
    "\n",
    "min_max( \"EstimatedSalary\" )\n",
    "min_max( \"Age\" )"
   ]
  },
  {
   "attachments": {},
   "cell_type": "markdown",
   "id": "87dda87e-e0e5-48b6-9011-760ae56bbf15",
   "metadata": {},
   "source": [
    "### 1.5. Transformation\n"
   ]
  },
  {
   "cell_type": "code",
   "execution_count": 13,
   "id": "01ea07b0-d890-45f6-8646-9aeb25219306",
   "metadata": {},
   "outputs": [
    {
     "data": {
      "text/plain": [
       "Age               -0.622513\n",
       "EstimatedSalary   -0.405878\n",
       "dtype: float64"
      ]
     },
     "execution_count": 13,
     "metadata": {},
     "output_type": "execute_result"
    }
   ],
   "source": [
    "# Age and EstimatedSalary must be follow a normal distribution\n",
    "# meaning, skew = kurtosis = 0\n",
    "ds[ [ \"Age\" , \"EstimatedSalary\" ] ].skew()\n",
    "ds[ [ \"Age\" , \"EstimatedSalary\" ] ].kurtosis()"
   ]
  },
  {
   "cell_type": "code",
   "execution_count": 14,
   "id": "a4be048f-80d5-4e0b-8d0d-2ce6e42f7454",
   "metadata": {},
   "outputs": [
    {
     "name": "stdout",
     "output_type": "stream",
     "text": [
      "8.772648855102862\n",
      "75.54534474505262\n",
      "-0.6431799328732787\n",
      "0.36416628386911043\n",
      "-1.31598202376335\n",
      "2.9087199865782383\n",
      "-6.314913080205095\n",
      "46.98324920534226\n"
     ]
    }
   ],
   "source": [
    "# Check for transformation with near-zero skew and kurtosis\n",
    "\n",
    "# Reciprocal transformation\n",
    "print( ( 1 / (ds[\"Age\"] + 1e-3) ).skew() )\n",
    "print( ( 1 / (ds[\"Age\"] + 1e-3) ).kurtosis() )\n",
    "\n",
    "# square-root transformation\n",
    "print( np.sqrt( ds[ \"Age\" ] ).skew() )\n",
    "print( np.sqrt( ds[ \"Age\" ] ).kurtosis() )\n",
    "\n",
    "# cube-root transformation\n",
    "print( np.cbrt( ds[ \"Age\" ] ).skew() )\n",
    "print( np.cbrt( ds[ \"Age\" ] ).kurtosis() )\n",
    "\n",
    "# log-transformation\n",
    "print( np.log( ds[ \"Age\" ] + 1e-6 ).skew() )\n",
    "print( np.log( ds[ \"Age\" ] + 1e-6 ).kurtosis() )"
   ]
  },
  {
   "cell_type": "code",
   "execution_count": 15,
   "id": "4bd30b1b-da52-465a-bf57-8835f96b6810",
   "metadata": {},
   "outputs": [
    {
     "name": "stdout",
     "output_type": "stream",
     "text": [
      "-0.2385769089771854\n",
      "-0.4060057246641384\n",
      "0.6805870525685984\n"
     ]
    }
   ],
   "source": [
    "from scipy.stats import boxcox , skew , kurtosis\n",
    "\n",
    "# Box-cox (power-transform), a common tool to transform\n",
    "# the distribution of a feature to a Gaussian distribution\n",
    "# https://www.statisticshowto.com/probability-and-statistics/normal-distributions/box-cox-transformation/\n",
    "# Add a small number to avoid log(0)\n",
    "output , lmbda = boxcox( ds[ \"Age\" ] + 1e-4 )\n",
    "print( skew(output) )\n",
    "print( kurtosis(output) )\n",
    "print( lmbda )"
   ]
  },
  {
   "cell_type": "code",
   "execution_count": 16,
   "id": "b3bc041f-b64a-4b17-9ad8-ac63b27008e1",
   "metadata": {},
   "outputs": [],
   "source": [
    "# Box-cox transform returns the smallest skew \n",
    "# and kurtosis\n",
    "ds[\"Age\"] = boxcox( ds[ \"Age\" ] + 1e-4 )[0]\n",
    "ds[\"EstimatedSalary\"] = boxcox( ds[ \"EstimatedSalary\" ] + 1e-4 )[0]"
   ]
  },
  {
   "cell_type": "code",
   "execution_count": 17,
   "id": "7ef4e1aa-058f-4bb9-99a4-4458c0597f5e",
   "metadata": {},
   "outputs": [
    {
     "data": {
      "text/html": [
       "<div>\n",
       "<style scoped>\n",
       "    .dataframe tbody tr th:only-of-type {\n",
       "        vertical-align: middle;\n",
       "    }\n",
       "\n",
       "    .dataframe tbody tr th {\n",
       "        vertical-align: top;\n",
       "    }\n",
       "\n",
       "    .dataframe thead th {\n",
       "        text-align: right;\n",
       "    }\n",
       "</style>\n",
       "<table border=\"1\" class=\"dataframe\">\n",
       "  <thead>\n",
       "    <tr style=\"text-align: right;\">\n",
       "      <th></th>\n",
       "      <th>Age</th>\n",
       "      <th>EstimatedSalary</th>\n",
       "    </tr>\n",
       "  </thead>\n",
       "  <tbody>\n",
       "    <tr>\n",
       "      <th>count</th>\n",
       "      <td>400.000000</td>\n",
       "      <td>400.000000</td>\n",
       "    </tr>\n",
       "    <tr>\n",
       "      <th>mean</th>\n",
       "      <td>-0.625744</td>\n",
       "      <td>-0.764688</td>\n",
       "    </tr>\n",
       "    <tr>\n",
       "      <th>std</th>\n",
       "      <td>0.335984</td>\n",
       "      <td>0.398289</td>\n",
       "    </tr>\n",
       "    <tr>\n",
       "      <th>min</th>\n",
       "      <td>-1.466535</td>\n",
       "      <td>-1.736617</td>\n",
       "    </tr>\n",
       "    <tr>\n",
       "      <th>25%</th>\n",
       "      <td>-0.851804</td>\n",
       "      <td>-1.036507</td>\n",
       "    </tr>\n",
       "    <tr>\n",
       "      <th>50%</th>\n",
       "      <td>-0.612830</td>\n",
       "      <td>-0.701827</td>\n",
       "    </tr>\n",
       "    <tr>\n",
       "      <th>75%</th>\n",
       "      <td>-0.354216</td>\n",
       "      <td>-0.518077</td>\n",
       "    </tr>\n",
       "    <tr>\n",
       "      <th>max</th>\n",
       "      <td>0.000100</td>\n",
       "      <td>0.000100</td>\n",
       "    </tr>\n",
       "  </tbody>\n",
       "</table>\n",
       "</div>"
      ],
      "text/plain": [
       "              Age  EstimatedSalary\n",
       "count  400.000000       400.000000\n",
       "mean    -0.625744        -0.764688\n",
       "std      0.335984         0.398289\n",
       "min     -1.466535        -1.736617\n",
       "25%     -0.851804        -1.036507\n",
       "50%     -0.612830        -0.701827\n",
       "75%     -0.354216        -0.518077\n",
       "max      0.000100         0.000100"
      ]
     },
     "execution_count": 17,
     "metadata": {},
     "output_type": "execute_result"
    }
   ],
   "source": [
    "ds[ [ \"Age\" , \"EstimatedSalary\" ] ].describe()"
   ]
  },
  {
   "cell_type": "markdown",
   "id": "4787c367-123d-43c6-8dab-b8358ad708e6",
   "metadata": {},
   "source": [
    "## 2. Model Building"
   ]
  },
  {
   "cell_type": "code",
   "execution_count": 18,
   "id": "70589fde-2290-49d5-a9bc-32f3ee24cb2a",
   "metadata": {},
   "outputs": [
    {
     "name": "stdout",
     "output_type": "stream",
     "text": [
      "(268, 3)\n",
      "(132, 3)\n",
      "(268, 1)\n",
      "(132, 1)\n"
     ]
    }
   ],
   "source": [
    "from sklearn.model_selection import train_test_split\n",
    "\n",
    "y = ds[ \"Purchased\" ].to_numpy()\n",
    "X = ds[ [ \"EstimatedSalary\" , \"Age\" , \"Gender\" ] ].to_numpy()\n",
    "X_train, X_test, y_train, y_test = train_test_split(X, y, test_size=0.33 )\n",
    "\n",
    "y_train = np.expand_dims( y_train , axis=1 )\n",
    "y_test = np.expand_dims( y_test , axis=1 )\n",
    "\n",
    "print( X_train.shape )\n",
    "print( X_test.shape )\n",
    "print( y_train.shape )\n",
    "print( y_test.shape )"
   ]
  },
  {
   "cell_type": "code",
   "execution_count": 19,
   "id": "829b02b7-0203-464e-bdf6-21f3839f32bc",
   "metadata": {},
   "outputs": [
    {
     "name": "stderr",
     "output_type": "stream",
     "text": [
      "c:\\Users\\Sumeet\\AppData\\Local\\Programs\\Python\\Python312\\Lib\\site-packages\\sklearn\\utils\\validation.py:1183: DataConversionWarning: A column-vector y was passed when a 1d array was expected. Please change the shape of y to (n_samples, ), for example using ravel().\n",
      "  y = column_or_1d(y, warn=True)\n"
     ]
    }
   ],
   "source": [
    "from sklearn.linear_model import LogisticRegression\n",
    "\n",
    "clf = LogisticRegression().fit( X_train , y_train )\n",
    "pred_y = clf.predict( X_test )"
   ]
  },
  {
   "cell_type": "code",
   "execution_count": 20,
   "id": "a34cfbe0-dda8-4588-bb43-6e387abed085",
   "metadata": {},
   "outputs": [
    {
     "name": "stdout",
     "output_type": "stream",
     "text": [
      "Recall: 0.9010989010989011\n",
      "Precision: 0.9010989010989011\n",
      "Accuracy: 0.8636363636363636\n",
      "Error rate: 0.13636363636363635\n",
      "F1: 0.9010989010989011\n"
     ]
    }
   ],
   "source": [
    "# positive -> pred_y = 0\n",
    "# negative -> pred_y = 1\n",
    "\n",
    "y_test = np.squeeze( y_test )\n",
    "tp = ( (pred_y == 0) & (y_test == 0) ).sum()\n",
    "fp = ( (pred_y == 0) & (y_test == 1) ).sum()\n",
    "tn = ( (pred_y == 1) & (y_test == 1) ).sum()\n",
    "fn = ( (pred_y == 1) & (y_test == 0) ).sum()\n",
    "\n",
    "recall = tp / ( tp + fn )\n",
    "precision = tp / ( tp + fp )\n",
    "accuracy = ( tp + tn ) / ( tp + tn + fp + fn )\n",
    "error = 1 - accuracy\n",
    "f1 = ( 2 * recall * precision ) / ( precision + recall )\n",
    "\n",
    "print( \"Recall:\" , recall ) \n",
    "print( \"Precision:\" , precision ) \n",
    "print( \"Accuracy:\" , accuracy ) \n",
    "print( \"Error rate:\" , error ) \n",
    "print( \"F1:\" , f1 )"
   ]
  }
 ],
 "metadata": {
  "kernelspec": {
   "display_name": "Python 3",
   "language": "python",
   "name": "python3"
  },
  "language_info": {
   "codemirror_mode": {
    "name": "ipython",
    "version": 3
   },
   "file_extension": ".py",
   "mimetype": "text/x-python",
   "name": "python",
   "nbconvert_exporter": "python",
   "pygments_lexer": "ipython3",
   "version": "3.12.0"
  },
  "vscode": {
   "interpreter": {
    "hash": "2c09c812309b459f859a45c41ca72d6adb6f6fe1c64b1e59c891ac9ccd5cd845"
   }
  }
 },
 "nbformat": 4,
 "nbformat_minor": 5
}
